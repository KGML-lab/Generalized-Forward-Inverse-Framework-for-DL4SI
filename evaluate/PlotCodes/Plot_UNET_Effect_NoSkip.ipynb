{
 "cells": [
  {
   "cell_type": "code",
   "execution_count": null,
   "id": "ad5cff74",
   "metadata": {},
   "outputs": [],
   "source": [
    "import pandas as pd\n",
    "import numpy as np\n",
    "import matplotlib.pyplot as plt\n",
    "import os\n",
    "\n",
    "from plot_settings import global_setting\n",
    "from matplotlib.lines import Line2D\n",
    "from matplotlib.patches import Patch\n",
    "from matplotlib.patches import Rectangle\n",
    "global_setting()"
   ]
  },
  {
   "cell_type": "code",
   "execution_count": 2,
   "id": "a76c952f",
   "metadata": {},
   "outputs": [],
   "source": [
    "model_names = ['FlatVel-A', 'FlatVel-B',\n",
    "              'CurveVel-A', 'CurveVel-B',\n",
    "              'FlatFault-A', 'FlatFault-B',\n",
    "              'CurveFault-A', 'CurveFault-B']\n",
    "\n",
    "metrics = [\"MSE\", \"MAE\", \"SSIM\"]\n"
   ]
  },
  {
   "cell_type": "code",
   "execution_count": 3,
   "id": "7098c0ab",
   "metadata": {},
   "outputs": [],
   "source": [
    "results_dict = {}\n",
    "for metric in metrics:\n",
    "    results_dict[metric] = pd.DataFrame(columns=[\"Dataset\", \"Metric\"])\n",
    "    results_dict[metric][\"Dataset\"] = model_names\n",
    "    results_dict[metric][\"Metric\"] = metric\n"
   ]
  },
  {
   "cell_type": "code",
   "execution_count": 4,
   "id": "353d3de0",
   "metadata": {},
   "outputs": [
    {
     "data": {
      "text/html": [
       "<div>\n",
       "<style scoped>\n",
       "    .dataframe tbody tr th:only-of-type {\n",
       "        vertical-align: middle;\n",
       "    }\n",
       "\n",
       "    .dataframe tbody tr th {\n",
       "        vertical-align: top;\n",
       "    }\n",
       "\n",
       "    .dataframe thead th {\n",
       "        text-align: right;\n",
       "    }\n",
       "</style>\n",
       "<table border=\"1\" class=\"dataframe\">\n",
       "  <thead>\n",
       "    <tr style=\"text-align: right;\">\n",
       "      <th></th>\n",
       "      <th>Dataset</th>\n",
       "      <th>Metric</th>\n",
       "    </tr>\n",
       "  </thead>\n",
       "  <tbody>\n",
       "    <tr>\n",
       "      <th>0</th>\n",
       "      <td>FlatVel-A</td>\n",
       "      <td>MSE</td>\n",
       "    </tr>\n",
       "    <tr>\n",
       "      <th>1</th>\n",
       "      <td>FlatVel-B</td>\n",
       "      <td>MSE</td>\n",
       "    </tr>\n",
       "    <tr>\n",
       "      <th>2</th>\n",
       "      <td>CurveVel-A</td>\n",
       "      <td>MSE</td>\n",
       "    </tr>\n",
       "    <tr>\n",
       "      <th>3</th>\n",
       "      <td>CurveVel-B</td>\n",
       "      <td>MSE</td>\n",
       "    </tr>\n",
       "    <tr>\n",
       "      <th>4</th>\n",
       "      <td>FlatFault-A</td>\n",
       "      <td>MSE</td>\n",
       "    </tr>\n",
       "    <tr>\n",
       "      <th>5</th>\n",
       "      <td>FlatFault-B</td>\n",
       "      <td>MSE</td>\n",
       "    </tr>\n",
       "    <tr>\n",
       "      <th>6</th>\n",
       "      <td>CurveFault-A</td>\n",
       "      <td>MSE</td>\n",
       "    </tr>\n",
       "    <tr>\n",
       "      <th>7</th>\n",
       "      <td>CurveFault-B</td>\n",
       "      <td>MSE</td>\n",
       "    </tr>\n",
       "  </tbody>\n",
       "</table>\n",
       "</div>"
      ],
      "text/plain": [
       "        Dataset Metric\n",
       "0     FlatVel-A    MSE\n",
       "1     FlatVel-B    MSE\n",
       "2    CurveVel-A    MSE\n",
       "3    CurveVel-B    MSE\n",
       "4   FlatFault-A    MSE\n",
       "5   FlatFault-B    MSE\n",
       "6  CurveFault-A    MSE\n",
       "7  CurveFault-B    MSE"
      ]
     },
     "execution_count": 4,
     "metadata": {},
     "output_type": "execute_result"
    }
   ],
   "source": [
    "results_dict[\"MSE\"]"
   ]
  },
  {
   "cell_type": "code",
   "execution_count": 5,
   "id": "ab845a18",
   "metadata": {},
   "outputs": [],
   "source": [
    "model_dict = {\"Skip Latent U-Net (Small)\" : \"UNetInverseModel_17M\",\n",
    "              \"No Skip Latent U-Net (Small)\" : \"UNetInverseModel_17M_NoSkip\",\n",
    "              \"Skip Latent U-Net (Large)\" : \"UNetInverseModel_33M\",\n",
    "              \"No Skip Latent U-Net (Large)\" : \"UNetInverseModel_33M_NoSkip\",\n",
    "             }\n",
    "\n",
    "color_dict = {\n",
    "          'No Skip Latent U-Net (Large)':\"steelblue\", \n",
    "          'Skip Latent U-Net (Large)':\"deepskyblue\",\n",
    "          'No Skip Latent U-Net (Small)':\"forestgreen\",\n",
    "          'Skip Latent U-Net (Small)':\"limegreen\",\n",
    "         }\n",
    "\n",
    "basepath = \"../Metrics_final/\"\n",
    "prefix = \"eval_metric\"\n",
    "mode = \"Velocity\"\n",
    "\n",
    "sheets = [\"Velocity_unnorm_MAE\", \"Velocity_unnorm_MSE\", \"Velocity_SSIM\"]"
   ]
  },
  {
   "cell_type": "code",
   "execution_count": 6,
   "id": "ae3824ac",
   "metadata": {
    "scrolled": true
   },
   "outputs": [],
   "source": [
    "for key, value in model_dict.items():\n",
    "    grid_file = os.path.join(basepath, prefix+value+\".xlsx\")\n",
    "    model_name = key\n",
    "    for metric in sheets:\n",
    "        metric_type = metric.split(\"_\")[-1]\n",
    "        #read the particular metric sheet in the result grid file (dataset vs dataset)\n",
    "        df = pd.read_excel(grid_file, engine='openpyxl', header=0, index_col=0, sheet_name=metric)\n",
    "#         print(df)\n",
    "        metric_diag = [df[dataset.lower()][dataset] for dataset in model_names]\n",
    "        results_dict[metric_type][model_name] = metric_diag"
   ]
  },
  {
   "cell_type": "code",
   "execution_count": 7,
   "id": "d6dc0bc8",
   "metadata": {},
   "outputs": [],
   "source": [
    "mapping = {\n",
    "    'FlatVel-A': 'FVA',\n",
    "    'FlatVel-B': 'FVB',\n",
    "    'CurveVel-A': 'CVA',\n",
    "    'CurveVel-B': 'CVB',\n",
    "    'FlatFault-A': 'FFA',\n",
    "    'FlatFault-B': 'FFB',\n",
    "    'CurveFault-A': 'CFA',\n",
    "    'CurveFault-B': 'CFB'\n",
    "}"
   ]
  },
  {
   "cell_type": "code",
   "execution_count": 8,
   "id": "64d34bc9",
   "metadata": {},
   "outputs": [],
   "source": [
    "save_dir = \"../PaperFigures/\""
   ]
  },
  {
   "cell_type": "code",
   "execution_count": 9,
   "id": "fc39a885",
   "metadata": {},
   "outputs": [
    {
     "data": {
      "text/plain": [
       "<Figure size 1200x800 with 0 Axes>"
      ]
     },
     "metadata": {},
     "output_type": "display_data"
    },
    {
     "data": {
      "image/png": "[encoded data removed]",
      "text/plain": [
       "<Figure size 800x300 with 1 Axes>"
      ]
     },
     "metadata": {},
     "output_type": "display_data"
    }
   ],
   "source": [
    "metrics = \"MSE\"\n",
    "\n",
    "\n",
    "# Replace the dataset names with shorthand notations\n",
    "results_ = results_dict[metrics]\n",
    "results_['Dataset'] = results_['Dataset'].replace(mapping)\n",
    "\n",
    "arch_names = list(model_dict.keys())\n",
    "color_list = [color_dict[arch_name] for arch_name in arch_names]\n",
    "\n",
    "plt.figure()\n",
    "ax = results_.plot(x=\"Dataset\",\n",
    "                   y=arch_names, \n",
    "                   kind=\"bar\",\n",
    "                   figsize=(8, 3), \n",
    "                   rot=0, \n",
    "                   fontsize=14, \n",
    "                   color=color_list)\n",
    "\n",
    "ax.set_ylabel(f\"{metrics}\", fontsize=14)\n",
    "ax.set_xlabel(\"Dataset\", fontsize=14)\n",
    "\n",
    "plt.yscale(\"log\")\n",
    "plt.xticks(rotation=0)\n",
    "plt.legend(loc=\"center\", ncol=2, fontsize=11, bbox_to_anchor=[0.5, 1.12])\n",
    "\n",
    "\n",
    "# # Create dataset legend elements\n",
    "# dataset_handles, dataset_labels = plt.gca().get_legend_handles_labels()\n",
    "\n",
    "\n",
    "# legend_elements = [\n",
    "#     Patch(facecolor=\"blue\", edgecolor=\"blue\", label=\"Latent U-Net (Large)\",linewidth=0.5),\n",
    "#     Patch(facecolor=\"green\", edgecolor=\"green\", label=\"Latent U-Net (Small)\",linewidth=0.5)\n",
    "# ]\n",
    "\n",
    "\n",
    "# # Combine both legends\n",
    "# combined_handles = dataset_handles + legend_elements\n",
    "# combined_labels = dataset_labels + [element.get_label() for element in legend_elements]\n",
    "\n",
    "# # Create a single combined legend\n",
    "# plt.legend(combined_handles, combined_labels, loc=\"center\", ncol=3, fontsize=11, bbox_to_anchor=[0.5, 1.12])\n",
    "\n",
    "plt.grid(\"on\", alpha=0.3)\n",
    "plt.savefig(save_dir+f\"skip_vs_noskip_unet_{metrics}.png\", dpi=150, bbox_inches=\"tight\")\n",
    "# plt.show()"
   ]
  },
  {
   "cell_type": "code",
   "execution_count": 10,
   "id": "919b8bef",
   "metadata": {},
   "outputs": [
    {
     "data": {
      "text/plain": [
       "<Figure size 1200x800 with 0 Axes>"
      ]
     },
     "metadata": {},
     "output_type": "display_data"
    },
    {
     "data": {
      "image/png": "[encoded data removed]",
      "text/plain": [
       "<Figure size 800x300 with 1 Axes>"
      ]
     },
     "metadata": {},
     "output_type": "display_data"
    }
   ],
   "source": [
    "metrics = \"MAE\"\n",
    "\n",
    "\n",
    "# Replace the dataset names with shorthand notations\n",
    "results_ = results_dict[metrics]\n",
    "results_['Dataset'] = results_['Dataset'].replace(mapping)\n",
    "\n",
    "arch_names = list(model_dict.keys())\n",
    "color_list = [color_dict[arch_name] for arch_name in arch_names]\n",
    "\n",
    "plt.figure()\n",
    "ax = results_.plot(x=\"Dataset\",\n",
    "                   y=arch_names, \n",
    "                   kind=\"bar\",\n",
    "                   figsize=(8, 3), \n",
    "                   rot=0, \n",
    "                   fontsize=14, \n",
    "                   color=color_list)\n",
    "\n",
    "ax.set_ylabel(f\"{metrics}\", fontsize=14)\n",
    "ax.set_xlabel(\"Dataset\", fontsize=14)\n",
    "\n",
    "plt.yscale(\"log\")\n",
    "plt.xticks(rotation=0)\n",
    "plt.legend(loc=\"center\", ncol=2, fontsize=11, bbox_to_anchor=[0.5, 1.12])\n",
    "plt.grid(\"on\", alpha=0.3)\n",
    "plt.savefig(save_dir+f\"skip_vs_noskip_unet_{metrics}.png\", dpi=150, bbox_inches=\"tight\")\n",
    "# plt.show()"
   ]
  },
  {
   "cell_type": "code",
   "execution_count": null,
   "id": "ca0beeb6",
   "metadata": {},
   "outputs": [
    {
     "data": {
      "text/plain": [
       "<Figure size 1200x800 with 0 Axes>"
      ]
     },
     "metadata": {},
     "output_type": "display_data"
    }
   ],
   "source": [
    "metrics = \"SSIM\"\n",
    "\n",
    "\n",
    "# Replace the dataset names with shorthand notations\n",
    "results_ = results_dict[metrics]\n",
    "results_['Dataset'] = results_['Dataset'].replace(mapping)\n",
    "\n",
    "arch_names = list(model_dict.keys())\n",
    "color_list = [color_dict[arch_name] for arch_name in arch_names]\n",
    "\n",
    "plt.figure()\n",
    "ax = results_.plot(x=\"Dataset\",\n",
    "                   y=arch_names, \n",
    "                   kind=\"bar\",\n",
    "                   figsize=(8, 3), \n",
    "                   rot=0, \n",
    "                   fontsize=14, \n",
    "                   color=color_list)\n",
    "\n",
    "ax.set_ylabel(f\"{metrics}\", fontsize=14)\n",
    "ax.set_xlabel(\"Dataset\", fontsize=14)\n",
    "\n",
    "plt.xticks(rotation=0)\n",
    "plt.legend(loc=\"center\", ncol=2, fontsize=11, bbox_to_anchor=[0.5, 1.12])\n",
    "plt.grid(\"on\", alpha=0.3)\n",
    "plt.savefig(save_dir+f\"skip_vs_noskip_unet_{metrics}.png\", dpi=150, bbox_inches=\"tight\")\n",
    "# plt.show()"
   ]
  },
  {
   "cell_type": "code",
   "execution_count": null,
   "id": "2162e822",
   "metadata": {},
   "outputs": [],
   "source": []
  },
  {
   "cell_type": "code",
   "execution_count": null,
   "id": "997dc472",
   "metadata": {},
   "outputs": [],
   "source": []
  },
  {
   "cell_type": "code",
   "execution_count": null,
   "id": "b9983e18",
   "metadata": {},
   "outputs": [],
   "source": []
  },
  {
   "cell_type": "code",
   "execution_count": null,
   "id": "ec1b63c7",
   "metadata": {},
   "outputs": [],
   "source": []
  },
  {
   "cell_type": "code",
   "execution_count": null,
   "id": "c7ebf72a",
   "metadata": {},
   "outputs": [],
   "source": []
  }
 ],
 "metadata": {
  "kernelspec": {
   "display_name": "openfwi_env",
   "language": "python",
   "name": "openfwi_env"
  },
  "language_info": {
   "codemirror_mode": {
    "name": "ipython",
    "version": 3
   },
   "file_extension": ".py",
   "mimetype": "text/x-python",
   "name": "python",
   "nbconvert_exporter": "python",
   "pygments_lexer": "ipython3",
   "version": "3.9.17"
  }
 },
 "nbformat": 4,
 "nbformat_minor": 5
}
