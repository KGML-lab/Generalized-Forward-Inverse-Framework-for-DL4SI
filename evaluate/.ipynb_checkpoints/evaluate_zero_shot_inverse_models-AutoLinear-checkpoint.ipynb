{
 "cells": [
  {
   "cell_type": "code",
   "execution_count": null,
   "id": "89ff3304",
   "metadata": {},
   "outputs": [],
   "source": [
    "import sys\n",
    "sys.path.append(\"../\")\n",
    "\n",
    "import os\n",
    "import json\n",
    "import time\n",
    "import datetime\n",
    "\n",
    "import openpyxl\n",
    "from openpyxl import Workbook\n",
    "\n",
    "\n",
    "import torch\n",
    "import torchvision\n",
    "from torch import nn\n",
    "from torchvision.transforms import Compose\n",
    "from torch.utils.data import RandomSampler, DataLoader\n",
    "from torch.utils.data.dataloader import default_collate\n",
    "from torch.utils.data.distributed import DistributedSampler\n",
    "from torch.nn.parallel import DistributedDataParallel\n",
    "from torch.utils.tensorboard import SummaryWriter\n",
    "\n",
    "\n",
    "from tqdm import tqdm\n",
    "from tqdm.notebook import tqdm\n",
    "\n",
    "from iunets import iUNet\n",
    "from dataset import FWIDataset\n",
    "# from networks import iunet_network\n",
    "from networks import forward_network, inverse_network, iunet_network, autoencoder\n",
    "\n",
    "import utils.transforms as T\n",
    "from utils.pytorch_ssim import *\n",
    "import utils.utilities as utils\n",
    "from utils.scheduler import WarmupMultiStepLR\n",
    "from utils.config_utils import get_config_name, get_latent_dim\n",
    "from matplotlib.colors import ListedColormap\n",
    "rainbow_cmap = ListedColormap(np.load('/projects/ml4science/OpenFWI/Latent_Bijectivity/utils/rainbow256.npy'))\n",
    "import matplotlib.pyplot as plt"
   ]
  },
  {
   "cell_type": "code",
   "execution_count": 2,
   "id": "c47759ce",
   "metadata": {},
   "outputs": [],
   "source": [
    "import argparse\n",
    "import torch\n",
    "\n",
    "parser = argparse.ArgumentParser(description=\"OpenFWI arguments\")\n",
    "\n",
    "# Define command-line arguments\n",
    "parser.add_argument(\"--step\", type=int, default=0, help=\"Step value\")\n",
    "parser.add_argument(\"--file_size\", type=int, default=500, help=\"File size\")\n",
    "parser.add_argument(\"--vis_suffix\", action=\"store_true\", help=\"Enable visualization suffix\")\n",
    "parser.add_argument(\"--device\", default=\"cuda\", choices=[\"cpu\", \"cuda\"], help=\"Device (cpu or cuda)\")\n",
    "\n",
    "parser.add_argument(\"--k\", type=int, default=1, help=\"Value for k\")\n",
    "parser.add_argument(\"--workers\", type=int, default=4, help=\"Number of workers\")\n",
    "parser.add_argument(\"--lambda_g1v\", type=int, default=1, help=\"Value for lambda_g1v\")\n",
    "parser.add_argument(\"--lambda_g2v\", type=int, default=1, help=\"Value for lambda_g2v\")\n",
    "parser.add_argument(\"--batch_size\", type=int, default=50, help=\"Batch size\")\n",
    "parser.add_argument(\"--mask_factor\", type=float, default=0.0, help=\"Mask factor\")\n",
    "parser.add_argument(\"--sample_temporal\", type=int, default=1, help=\"Temporal sampling value\")\n",
    "parser.add_argument(\"--distributed\", action=\"store_true\", help=\"Enable distributed computing\")\n",
    "\n",
    "parser.add_argument(\"--num_images\", type=int, default=5, help=\"Number of images\")\n",
    "\n",
    "parser.add_argument(\"--model_type\", default=\"IUnetInverseModel\", help=\"Model type\")\n",
    "parser.add_argument(\"--base_path\", default=\"/projects/ml4science/OpenFWI/Results/SupervisedExperiment/\", help=\"Base path\")\n",
    "parser.add_argument(\"--model_save_name\", default=\"IUnetInverseModel\", help=\"Model save name\")\n",
    "parser.add_argument(\"--unet_depth\", type=int, default=2, help=\"UNet depth\")\n",
    "parser.add_argument(\"--unet_repeat_blocks\", type=int, default=2, help=\"Number of repeated UNet blocks\")\n",
    "\n",
    "parser.add_argument(\"--latent_dim\", type=int, default=70, help=\"Latent Dimension\")\n",
    "parser.add_argument(\"--skip\", type=int, default=1, help=\"Skip Connections for UNet\")\n",
    "parser.add_argument(\"--cfg_path\", default=\"../configs/\", help=\"Cfg path\")\n",
    "\n",
    "# Parse the command-line arguments\n",
    "args = parser.parse_args(args=[])\n",
    "\n",
    "\n",
    "# Reinitialize variables without the 'args' prefix\n",
    "for key, value in vars(args).items():\n",
    "    exec(f\"{key} = value\")"
   ]
  },
  {
   "cell_type": "code",
   "execution_count": 3,
   "id": "cb6eca2b",
   "metadata": {},
   "outputs": [],
   "source": [
    "def log_transform(data):\n",
    "    return torch.log10(1+torch.abs(data)) * torch.sign(data)\n",
    "\n",
    "def tanh_transform(data):\n",
    "    return torch.nn.functional.tanh(data)\n",
    "\n",
    "\n",
    "device = torch.device(device)\n",
    "\n",
    "datasets = [\"flatvel-a\", \"flatvel-b\",\n",
    "          \"curvevel-a\", \"curvevel-b\",\n",
    "          \"flatfault-a\", \"flatfault-b\",\n",
    "          \"curvefault-a\", \"curvefault-b\",\n",
    "          \"style-a\", \"style-b\"]\n",
    "\n",
    "model_names = ['FlatVel-A', 'FlatVel-B',\n",
    "          'CurveVel-A', 'CurveVel-B',\n",
    "         'FlatFault-A', 'FlatFault-B',\n",
    "         'CurveFault-A', 'CurveFault-B',\n",
    "         'Style-A', 'Style-B']\n",
    "\n",
    "model_type = \"AutoLinearInverse\"\n",
    "model_save_name= \"AutoLinear_Inversion_ckpt\"\n",
    "\n",
    "model_paths = []\n",
    "for model_name in model_names:\n",
    "    path_ = os.path.join(model_name, model_save_name, \"fcn_l1loss_ffb\")\n",
    "    model_paths.append(path_)\n"
   ]
  },
  {
   "cell_type": "code",
   "execution_count": 4,
   "id": "0f50c70f",
   "metadata": {},
   "outputs": [],
   "source": [
    "criterions = {\n",
    "    'MAE': lambda x, y: torch.mean(torch.abs(x - y)),\n",
    "    'MSE': lambda x, y: torch.mean((x - y) ** 2)\n",
    "}\n",
    "\n",
    "def get_dataset_path(dataset):\n",
    "    arr = dataset.split(\"-\")\n",
    "    base_path = f\"../train_test_splits/\"\n",
    "    \n",
    "    train_path = os.path.join(base_path, f\"{arr[0]}_{arr[1]}_train.txt\")\n",
    "    val_path = os.path.join(base_path, f\"{arr[0]}_{arr[1]}_val.txt\")\n",
    "    \n",
    "    return train_path, val_path\n",
    "\n",
    "def get_transforms(dataset, return_ctx=False):\n",
    "    f = open('../dataset_config.json')\n",
    "    ctx = json.load(f)[dataset]\n",
    "\n",
    "    transform_data = T.Normalize(ctx['data_mean'], ctx['data_std'])\n",
    "    transform_label = T.MinMaxNormalize(ctx['label_min'], ctx['label_max'])\n",
    "    if return_ctx:\n",
    "        return  transform_data, transform_label, ctx\n",
    "    return  transform_data, transform_label\n",
    "\n",
    "def get_transforms_auto_linear(dataset, return_ctx=False):\n",
    "    f = open('../dataset_config.json')\n",
    "    ctx = json.load(f)[dataset]\n",
    "    \n",
    "    transform_data = Compose([\n",
    "                        T.LogTransform(k=k),\n",
    "                        T.MinMaxNormalize(T.log_transform(ctx['data_min'], k=k), \n",
    "                        T.log_transform(ctx['data_max'], k=k))\n",
    "                    ])\n",
    "\n",
    "    transform_label = T.MinMaxNormalize(ctx['label_min'], ctx['label_max'])\n",
    "\n",
    "    inverse_transform_data = Compose([\n",
    "        T.MinMaxNormalize(T.log_transform(ctx['data_min'], k=k), \n",
    "                            T.log_transform(ctx['data_max'], k=k)).inverse_transform,\n",
    "        T.LogTransform(k=k).inverse_transform\n",
    "    ])\n",
    "\n",
    "    min_log = T.log_transform(ctx['data_min'], k)\n",
    "    max_log = T.log_transform(ctx['data_max'],k)\n",
    "    if return_ctx:\n",
    "        return  transform_data, transform_label, ctx\n",
    "    return  transform_data, transform_label, min_log, max_log\n",
    "\n",
    "def get_dataloader(test_dataset, train_dataset=None, transform_mode=\"normal\"):\n",
    "    if train_dataset is None:\n",
    "        train_dataset = test_dataset\n",
    "    \n",
    "    transform_data, transform_label, ctx = get_transforms(train_dataset, return_ctx=True)\n",
    "    if transform_mode ==\"AutoLinear\":\n",
    "        transform_data, transform_label, ctx = get_transforms_auto_linear(train_dataset, return_ctx=True)\n",
    "\n",
    "    train_anno, val_anno = get_dataset_path(test_dataset)\n",
    "        \n",
    "    print(f'Loading {test_dataset} validation data')\n",
    "    dataset_valid = FWIDataset(\n",
    "        val_anno,\n",
    "        preload=True,\n",
    "        sample_ratio=sample_temporal,\n",
    "        file_size=ctx['file_size'],\n",
    "        transform_data=transform_data,\n",
    "        transform_label=transform_label\n",
    "    )\n",
    "        \n",
    "    valid_sampler = RandomSampler(dataset_valid)\n",
    "\n",
    "    dataloader_valid = DataLoader(\n",
    "                                dataset_valid, batch_size=batch_size,\n",
    "                                sampler=valid_sampler, num_workers=workers,\n",
    "                                pin_memory=True, collate_fn=default_collate)\n",
    "    \n",
    "    print('Data loading over')\n",
    "        \n",
    "    return dataset_valid, dataloader_valid, transform_data, transform_label "
   ]
  },
  {
   "cell_type": "code",
   "execution_count": 5,
   "id": "87df86a4",
   "metadata": {},
   "outputs": [],
   "source": [
    "def get_model_auto_linear(model_path, model_type):\n",
    "    # Load the TorchScript model\n",
    "    model = torch.jit.load(model_path)\n",
    "\n",
    "    # Set the model to evaluation mode\n",
    "    model.eval()\n",
    "    return model\n",
    "    "
   ]
  },
  {
   "cell_type": "code",
   "execution_count": 6,
   "id": "3285f652",
   "metadata": {},
   "outputs": [],
   "source": [
    "def permute_fn(tensor):\n",
    "    return tensor\n",
    "\n",
    "def evaluate(model, dataloader_auto_linear, transform_data_xnet, transform_label_xnet, \n",
    "             transform_data_auto_linear, transform_label_auto_linear,\n",
    "             k, criterions, device, plot=True):   \n",
    "    \n",
    "    eval_metrics = {}\n",
    "    \n",
    "    vel_list, vel_pred_list= [], [] # store denormalized velocity predcition & gt in numpy \n",
    "    vel_norm_list, vel_pred_norm_list = [], [] # store normalized velocity prediction & gt in tensor\n",
    "\n",
    "    ssim_loss = SSIM(window_size=11)\n",
    "    ssim_value = 0\n",
    "    with torch.no_grad():\n",
    "        batch_idx = 0\n",
    "        for  _, amp, vel in dataloader_auto_linear:\n",
    "            amp_auto_linear = amp.to(device)\n",
    "            vel_auto_linear = vel.to(device)\n",
    "            \n",
    "           \n",
    "            \n",
    "            output = model(amp_auto_linear, vel_auto_linear)\n",
    "            vel_pred_auto_linear = output[4]\n",
    "            \n",
    "            # convert to original space using their transform's inverse\n",
    "            vel_np = transform_label_auto_linear.inverse_transform(permute_fn(vel_auto_linear).detach().cpu().numpy())\n",
    "            vel_list.append(torch.from_numpy(vel_np))\n",
    "            \n",
    "            # normalize using our method\n",
    "            vel_norm_xnet = transform_label_xnet(vel_np)\n",
    "            vel_norm_list.append(torch.tensor(vel_norm_xnet))\n",
    "            \n",
    "            # convert to original space using their transform's inverse\n",
    "            vel_pred_np = transform_label_auto_linear.inverse_transform(permute_fn(vel_pred_auto_linear).detach().cpu().numpy())\n",
    "            vel_pred_list.append(torch.from_numpy(vel_pred_np))\n",
    "            \n",
    "             # normalize using our method\n",
    "            vel_pred_norm_xnet = transform_label_xnet(vel_pred_np)\n",
    "            vel_pred_norm_list.append(torch.tensor(vel_pred_norm_xnet))\n",
    "            \n",
    "            ssim_value += ssim_loss(torch.tensor(vel_norm_xnet).to(device) / 2 + 0.5, torch.tensor(vel_pred_norm_xnet).to(device) / 2 + 0.5).item()        \n",
    "            \n",
    "            batch_idx += 1\n",
    "            \n",
    "            if plot:\n",
    "                fig, axes = plt.subplots(1, 4, figsize=(12, 6))\n",
    "                axes[0].imshow(vel_pred_auto_linear.detach().cpu().numpy()[0,0, :, :], aspect='auto',   cmap=rainbow_cmap)\n",
    "                axes[0].set_title('Predicted')\n",
    "#                 axes[0].colorbar(ax=axes[0])  # Add colorbar to the first subplot\n",
    "    #             plt.imshow(amp_pred.detach().cpu().numpy()[0, 2,:,:], aspect='auto', vmin=-1, vmax=+1, cmap=rainbow_cmap)\n",
    "                img = axes[1].imshow(vel_auto_linear.detach().cpu().numpy()[0, 0, :, :], aspect='auto',   cmap=rainbow_cmap)\n",
    "                axes[1].set_title('GT')\n",
    "#                 plt.colorbar(img, ax=axes[1])\n",
    "\n",
    "                img = axes[2].imshow(vel_np[0, 0, :, :], aspect='auto',   cmap=rainbow_cmap)\n",
    "                axes[2].set_title('GT unnorm')\n",
    "                img = axes[3].imshow(vel_pred_np[0, 0, :, :], aspect='auto',   cmap=rainbow_cmap)\n",
    "                axes[3].set_title('pred unnorm')\n",
    "\n",
    "                plt.colorbar(img, ax=axes[3])\n",
    "                plt.tight_layout()\n",
    "                plt.show()\n",
    "\n",
    "    vel, vel_pred = torch.cat(vel_list), torch.cat(vel_pred_list)\n",
    "    vel_norm, vel_pred_norm = torch.cat(vel_norm_list), torch.cat(vel_pred_norm_list)\n",
    "\n",
    "    for name, criterion in criterions.items():\n",
    "        \n",
    "        eval_metrics[f'Velocity_norm_{name}'] = criterion(vel_norm, vel_pred_norm).item()\n",
    "        eval_metrics[f'Velocity_unnorm_{name}'] = criterion(vel, vel_pred).item()    \n",
    "    eval_metrics[f'Velocity_SSIM']  = ssim_value/len(dataloader_auto_linear) \n",
    "    \n",
    "    return eval_metrics\n"
   ]
  },
  {
   "cell_type": "code",
   "execution_count": 7,
   "id": "d1724741",
   "metadata": {},
   "outputs": [],
   "source": [
    "def generate_eval_matrix(model_names, model_paths, datasets):\n",
    "    \n",
    "    metrics = {}\n",
    "\n",
    "    for i in range(len(model_names)):\n",
    "        print(\"model_train_dataset: \", model_names[i])\n",
    "        model_name = model_names[i]\n",
    "        model_path = os.path.join(base_path, model_paths[i], \"latest_checkpoint.pth\")\n",
    "        if not os.path.exists(model_path):\n",
    "            print(f\"The path does not exist: {model_path}\")\n",
    "            continue\n",
    "\n",
    "        model = get_model_auto_linear(model_path, model_type)\n",
    "        model = model.to(device)\n",
    "        \n",
    "        vis_path = os.path.join(base_path, model_paths[i], 'Zero_Shot_Generalization')\n",
    "        if not os.path.exists(vis_path):\n",
    "            os.makedirs(vis_path)\n",
    "        \n",
    "        # We need the transform_data/transform_label for the trained model.\n",
    "        model_train_dataset = datasets[i]\n",
    "        \n",
    "        model_metrics = {}\n",
    "        for dataset in datasets:\n",
    "            print(\"Dataset: \", dataset)\n",
    "            dataset_val, dataloader_val,transform_data_xnet, transform_label_xnet= get_dataloader(test_dataset=dataset, train_dataset=model_train_dataset)\n",
    "            dataset_val_auto_linear, dataloader_val_auto_linear, transform_data_auto_linear, transform_label_auto_linear = get_dataloader(dataset, train_dataset=model_train_dataset, transform_mode = \"AutoLinear\")  \n",
    "        \n",
    "            print(f'------------ Evaluating {dataset} ------------')\n",
    "            \n",
    "            eval_dict = evaluate(model, dataloader_val_auto_linear, transform_data_xnet, transform_label_xnet, \n",
    "             transform_data_auto_linear, transform_label_auto_linear, k, criterions, device, plot=False)\n",
    "            \n",
    "#             utils.plot_images(num_images, dataset_val, model, dataset, vis_path, device, transform_data, transform_label, plot=False, save_key=\"dataset\")\n",
    "            \n",
    "            for key in eval_dict.keys():\n",
    "                model_metrics.setdefault(key, []).append(eval_dict[key])\n",
    "                \n",
    "        metrics[model_name] = model_metrics\n",
    "    return metrics\n",
    "\n",
    "\n",
    "def write_metrics(metrics_dict, filename):\n",
    "    \n",
    "    workbook = Workbook()\n",
    "    workbook.remove(workbook.active)\n",
    "    metrics_list = list(metrics_dict.values())[0].keys()\n",
    "    \n",
    "    for metric in metrics_list:\n",
    "        workbook.create_sheet(title=metric)\n",
    "        sheet = workbook[metric]\n",
    "        \n",
    "        for idx, dataset in enumerate(datasets, start=1):\n",
    "            cell = sheet.cell(row=1, column=idx+1, value=dataset)\n",
    "            cell.font = openpyxl.styles.Font(bold=True)\n",
    "            cell.alignment = openpyxl.styles.Alignment(horizontal='center')\n",
    "            \n",
    "        \n",
    "        for idx, model_name in enumerate(metrics_dict.keys(), start=1):\n",
    "            cell = sheet.cell(row=idx+1, column=1, value=model_name)\n",
    "            cell.alignment = openpyxl.styles.Alignment(horizontal='center')\n",
    "            \n",
    "            metric_values = metrics_dict[model_name][metric]\n",
    "            \n",
    "            for col, val in enumerate(metric_values, start=1):\n",
    "                cell = sheet.cell(row=idx+1, column=col+1, value=val)\n",
    "                cell.alignment = openpyxl.styles.Alignment(horizontal='center')\n",
    "    \n",
    "    workbook.save(filename)"
   ]
  },
  {
   "cell_type": "code",
   "execution_count": 8,
   "id": "cfb7ab0c",
   "metadata": {},
   "outputs": [
    {
     "name": "stdout",
     "output_type": "stream",
     "text": [
      "Dataset:  flatvel-a\n",
      "Loading flatvel-a validation data\n"
     ]
    },
    {
     "name": "stderr",
     "output_type": "stream",
     "text": [
      "100%|██████████| 12/12 [00:02<00:00,  4.57it/s]\n"
     ]
    },
    {
     "name": "stdout",
     "output_type": "stream",
     "text": [
      "Data concatenation complete.\n",
      "Data loading over\n",
      "Loading flatvel-a validation data\n"
     ]
    },
    {
     "name": "stderr",
     "output_type": "stream",
     "text": [
      "100%|██████████| 12/12 [00:02<00:00,  4.53it/s]\n"
     ]
    },
    {
     "name": "stdout",
     "output_type": "stream",
     "text": [
      "Data concatenation complete.\n",
      "Data loading over\n",
      "------------ Evaluating flatvel-a ------------\n",
      "Dataset:  flatvel-b\n",
      "Loading flatvel-b validation data\n"
     ]
    },
    {
     "name": "stderr",
     "output_type": "stream",
     "text": [
      "100%|██████████| 12/12 [00:02<00:00,  4.87it/s]\n"
     ]
    },
    {
     "name": "stdout",
     "output_type": "stream",
     "text": [
      "Data concatenation complete.\n",
      "Data loading over\n",
      "Loading flatvel-b validation data\n"
     ]
    },
    {
     "name": "stderr",
     "output_type": "stream",
     "text": [
      "100%|██████████| 12/12 [00:02<00:00,  4.78it/s]\n"
     ]
    },
    {
     "name": "stdout",
     "output_type": "stream",
     "text": [
      "Data concatenation complete.\n",
      "Data loading over\n",
      "------------ Evaluating flatvel-b ------------\n",
      "Dataset:  curvevel-a\n",
      "Loading curvevel-a validation data\n"
     ]
    },
    {
     "name": "stderr",
     "output_type": "stream",
     "text": [
      "100%|██████████| 12/12 [00:02<00:00,  5.12it/s]\n"
     ]
    },
    {
     "name": "stdout",
     "output_type": "stream",
     "text": [
      "Data concatenation complete.\n",
      "Data loading over\n",
      "Loading curvevel-a validation data\n"
     ]
    },
    {
     "name": "stderr",
     "output_type": "stream",
     "text": [
      "100%|██████████| 12/12 [00:02<00:00,  5.10it/s]\n"
     ]
    },
    {
     "name": "stdout",
     "output_type": "stream",
     "text": [
      "Data concatenation complete.\n",
      "Data loading over\n",
      "------------ Evaluating curvevel-a ------------\n",
      "Dataset:  curvevel-b\n",
      "Loading curvevel-b validation data\n"
     ]
    },
    {
     "name": "stderr",
     "output_type": "stream",
     "text": [
      "100%|██████████| 12/12 [00:02<00:00,  4.82it/s]\n"
     ]
    },
    {
     "name": "stdout",
     "output_type": "stream",
     "text": [
      "Data concatenation complete.\n",
      "Data loading over\n",
      "Loading curvevel-b validation data\n"
     ]
    },
    {
     "name": "stderr",
     "output_type": "stream",
     "text": [
      "100%|██████████| 12/12 [00:02<00:00,  4.85it/s]\n"
     ]
    },
    {
     "name": "stdout",
     "output_type": "stream",
     "text": [
      "Data concatenation complete.\n",
      "Data loading over\n",
      "------------ Evaluating curvevel-b ------------\n",
      "Dataset:  flatfault-a\n",
      "Loading flatfault-a validation data\n"
     ]
    },
    {
     "name": "stderr",
     "output_type": "stream",
     "text": [
      "100%|██████████| 12/12 [00:08<00:00,  1.35it/s]\n"
     ]
    },
    {
     "name": "stdout",
     "output_type": "stream",
     "text": [
      "Data concatenation complete.\n",
      "Data loading over\n",
      "Loading flatfault-a validation data\n"
     ]
    },
    {
     "name": "stderr",
     "output_type": "stream",
     "text": [
      "100%|██████████| 12/12 [00:02<00:00,  4.15it/s]\n"
     ]
    },
    {
     "name": "stdout",
     "output_type": "stream",
     "text": [
      "Data concatenation complete.\n",
      "Data loading over\n",
      "------------ Evaluating flatfault-a ------------\n",
      "Dataset:  flatfault-b\n",
      "Loading flatfault-b validation data\n"
     ]
    },
    {
     "name": "stderr",
     "output_type": "stream",
     "text": [
      "100%|██████████| 12/12 [00:03<00:00,  3.92it/s]\n"
     ]
    },
    {
     "name": "stdout",
     "output_type": "stream",
     "text": [
      "Data concatenation complete.\n",
      "Data loading over\n",
      "Loading flatfault-b validation data\n"
     ]
    },
    {
     "name": "stderr",
     "output_type": "stream",
     "text": [
      "100%|██████████| 12/12 [00:02<00:00,  4.27it/s]\n"
     ]
    },
    {
     "name": "stdout",
     "output_type": "stream",
     "text": [
      "Data concatenation complete.\n",
      "Data loading over\n",
      "------------ Evaluating flatfault-b ------------\n",
      "Dataset:  curvefault-a\n",
      "Loading curvefault-a validation data\n"
     ]
    },
    {
     "name": "stderr",
     "output_type": "stream",
     "text": [
      "100%|██████████| 12/12 [00:02<00:00,  4.57it/s]\n"
     ]
    },
    {
     "name": "stdout",
     "output_type": "stream",
     "text": [
      "Data concatenation complete.\n",
      "Data loading over\n",
      "Loading curvefault-a validation data\n"
     ]
    },
    {
     "name": "stderr",
     "output_type": "stream",
     "text": [
      "100%|██████████| 12/12 [00:02<00:00,  4.63it/s]\n"
     ]
    },
    {
     "name": "stdout",
     "output_type": "stream",
     "text": [
      "Data concatenation complete.\n",
      "Data loading over\n",
      "------------ Evaluating curvefault-a ------------\n",
      "Dataset:  curvefault-b\n",
      "Loading curvefault-b validation data\n"
     ]
    },
    {
     "name": "stderr",
     "output_type": "stream",
     "text": [
      "100%|██████████| 12/12 [00:02<00:00,  4.74it/s]\n"
     ]
    },
    {
     "name": "stdout",
     "output_type": "stream",
     "text": [
      "Data concatenation complete.\n",
      "Data loading over\n",
      "Loading curvefault-b validation data\n"
     ]
    },
    {
     "name": "stderr",
     "output_type": "stream",
     "text": [
      "100%|██████████| 12/12 [00:02<00:00,  4.76it/s]\n"
     ]
    },
    {
     "name": "stdout",
     "output_type": "stream",
     "text": [
      "Data concatenation complete.\n",
      "Data loading over\n",
      "------------ Evaluating curvefault-b ------------\n",
      "Dataset:  style-a\n",
      "Loading style-a validation data\n"
     ]
    },
    {
     "name": "stderr",
     "output_type": "stream",
     "text": [
      "100%|██████████| 14/14 [00:02<00:00,  4.75it/s]\n"
     ]
    },
    {
     "name": "stdout",
     "output_type": "stream",
     "text": [
      "Data concatenation complete.\n",
      "Data loading over\n",
      "Loading style-a validation data\n"
     ]
    },
    {
     "name": "stderr",
     "output_type": "stream",
     "text": [
      "100%|██████████| 14/14 [00:02<00:00,  4.82it/s]\n"
     ]
    },
    {
     "name": "stdout",
     "output_type": "stream",
     "text": [
      "Data concatenation complete.\n",
      "Data loading over\n",
      "------------ Evaluating style-a ------------\n",
      "Dataset:  style-b\n",
      "Loading style-b validation data\n"
     ]
    },
    {
     "name": "stderr",
     "output_type": "stream",
     "text": [
      "100%|██████████| 14/14 [00:02<00:00,  4.78it/s]\n"
     ]
    },
    {
     "name": "stdout",
     "output_type": "stream",
     "text": [
      "Data concatenation complete.\n",
      "Data loading over\n",
      "Loading style-b validation data\n"
     ]
    },
    {
     "name": "stderr",
     "output_type": "stream",
     "text": [
      "100%|██████████| 14/14 [00:02<00:00,  5.02it/s]\n"
     ]
    },
    {
     "name": "stdout",
     "output_type": "stream",
     "text": [
      "Data concatenation complete.\n",
      "Data loading over\n",
      "------------ Evaluating style-b ------------\n",
      "Dataset:  flatvel-a\n",
      "Loading flatvel-a validation data\n"
     ]
    },
    {
     "name": "stderr",
     "output_type": "stream",
     "text": [
      "100%|██████████| 12/12 [00:02<00:00,  4.69it/s]\n"
     ]
    },
    {
     "name": "stdout",
     "output_type": "stream",
     "text": [
      "Data concatenation complete.\n",
      "Data loading over\n",
      "Loading flatvel-a validation data\n"
     ]
    },
    {
     "name": "stderr",
     "output_type": "stream",
     "text": [
      "100%|██████████| 12/12 [00:02<00:00,  4.69it/s]\n"
     ]
    },
    {
     "name": "stdout",
     "output_type": "stream",
     "text": [
      "Data concatenation complete.\n",
      "Data loading over\n",
      "------------ Evaluating flatvel-a ------------\n",
      "Dataset:  flatvel-b\n",
      "Loading flatvel-b validation data\n"
     ]
    },
    {
     "name": "stderr",
     "output_type": "stream",
     "text": [
      "100%|██████████| 12/12 [00:02<00:00,  5.04it/s]\n"
     ]
    },
    {
     "name": "stdout",
     "output_type": "stream",
     "text": [
      "Data concatenation complete.\n",
      "Data loading over\n",
      "Loading flatvel-b validation data\n"
     ]
    },
    {
     "name": "stderr",
     "output_type": "stream",
     "text": [
      "100%|██████████| 12/12 [00:02<00:00,  5.05it/s]\n"
     ]
    },
    {
     "name": "stdout",
     "output_type": "stream",
     "text": [
      "Data concatenation complete.\n",
      "Data loading over\n",
      "------------ Evaluating flatvel-b ------------\n",
      "Dataset:  curvevel-a\n",
      "Loading curvevel-a validation data\n"
     ]
    },
    {
     "name": "stderr",
     "output_type": "stream",
     "text": [
      "100%|██████████| 12/12 [00:02<00:00,  5.07it/s]\n"
     ]
    },
    {
     "name": "stdout",
     "output_type": "stream",
     "text": [
      "Data concatenation complete.\n",
      "Data loading over\n",
      "Loading curvevel-a validation data\n"
     ]
    },
    {
     "name": "stderr",
     "output_type": "stream",
     "text": [
      "100%|██████████| 12/12 [00:02<00:00,  5.05it/s]\n"
     ]
    },
    {
     "name": "stdout",
     "output_type": "stream",
     "text": [
      "Data concatenation complete.\n",
      "Data loading over\n",
      "------------ Evaluating curvevel-a ------------\n",
      "Dataset:  curvevel-b\n",
      "Loading curvevel-b validation data\n"
     ]
    },
    {
     "name": "stderr",
     "output_type": "stream",
     "text": [
      "100%|██████████| 12/12 [00:02<00:00,  5.10it/s]\n"
     ]
    },
    {
     "name": "stdout",
     "output_type": "stream",
     "text": [
      "Data concatenation complete.\n",
      "Data loading over\n",
      "Loading curvevel-b validation data\n"
     ]
    },
    {
     "name": "stderr",
     "output_type": "stream",
     "text": [
      "100%|██████████| 12/12 [00:02<00:00,  5.13it/s]\n"
     ]
    },
    {
     "name": "stdout",
     "output_type": "stream",
     "text": [
      "Data concatenation complete.\n",
      "Data loading over\n",
      "------------ Evaluating curvevel-b ------------\n",
      "Dataset:  flatfault-a\n",
      "Loading flatfault-a validation data\n"
     ]
    },
    {
     "name": "stderr",
     "output_type": "stream",
     "text": [
      "100%|██████████| 12/12 [00:02<00:00,  4.79it/s]\n"
     ]
    },
    {
     "name": "stdout",
     "output_type": "stream",
     "text": [
      "Data concatenation complete.\n",
      "Data loading over\n",
      "Loading flatfault-a validation data\n"
     ]
    },
    {
     "name": "stderr",
     "output_type": "stream",
     "text": [
      "100%|██████████| 12/12 [00:02<00:00,  4.79it/s]\n"
     ]
    },
    {
     "name": "stdout",
     "output_type": "stream",
     "text": [
      "Data concatenation complete.\n",
      "Data loading over\n",
      "------------ Evaluating flatfault-a ------------\n",
      "Dataset:  flatfault-b\n",
      "Loading flatfault-b validation data\n"
     ]
    },
    {
     "name": "stderr",
     "output_type": "stream",
     "text": [
      "100%|██████████| 12/12 [00:02<00:00,  4.16it/s]\n"
     ]
    },
    {
     "name": "stdout",
     "output_type": "stream",
     "text": [
      "Data concatenation complete.\n",
      "Data loading over\n",
      "Loading flatfault-b validation data\n"
     ]
    },
    {
     "name": "stderr",
     "output_type": "stream",
     "text": [
      "100%|██████████| 12/12 [00:02<00:00,  4.18it/s]\n"
     ]
    },
    {
     "name": "stdout",
     "output_type": "stream",
     "text": [
      "Data concatenation complete.\n",
      "Data loading over\n",
      "------------ Evaluating flatfault-b ------------\n",
      "Dataset:  curvefault-a\n",
      "Loading curvefault-a validation data\n"
     ]
    },
    {
     "name": "stderr",
     "output_type": "stream",
     "text": [
      "100%|██████████| 12/12 [00:02<00:00,  4.86it/s]\n"
     ]
    },
    {
     "name": "stdout",
     "output_type": "stream",
     "text": [
      "Data concatenation complete.\n",
      "Data loading over\n",
      "Loading curvefault-a validation data\n"
     ]
    },
    {
     "name": "stderr",
     "output_type": "stream",
     "text": [
      "100%|██████████| 12/12 [00:02<00:00,  4.82it/s]\n"
     ]
    },
    {
     "name": "stdout",
     "output_type": "stream",
     "text": [
      "Data concatenation complete.\n",
      "Data loading over\n",
      "------------ Evaluating curvefault-a ------------\n",
      "Dataset:  curvefault-b\n",
      "Loading curvefault-b validation data\n"
     ]
    },
    {
     "name": "stderr",
     "output_type": "stream",
     "text": [
      "100%|██████████| 12/12 [00:02<00:00,  4.95it/s]\n"
     ]
    },
    {
     "name": "stdout",
     "output_type": "stream",
     "text": [
      "Data concatenation complete.\n",
      "Data loading over\n",
      "Loading curvefault-b validation data\n"
     ]
    },
    {
     "name": "stderr",
     "output_type": "stream",
     "text": [
      "100%|██████████| 12/12 [00:02<00:00,  4.94it/s]\n"
     ]
    },
    {
     "name": "stdout",
     "output_type": "stream",
     "text": [
      "Data concatenation complete.\n",
      "Data loading over\n",
      "------------ Evaluating curvefault-b ------------\n",
      "Dataset:  style-a\n",
      "Loading style-a validation data\n"
     ]
    },
    {
     "name": "stderr",
     "output_type": "stream",
     "text": [
      "100%|██████████| 14/14 [00:02<00:00,  4.74it/s]\n"
     ]
    },
    {
     "name": "stdout",
     "output_type": "stream",
     "text": [
      "Data concatenation complete.\n",
      "Data loading over\n",
      "Loading style-a validation data\n"
     ]
    },
    {
     "name": "stderr",
     "output_type": "stream",
     "text": [
      "100%|██████████| 14/14 [00:02<00:00,  4.74it/s]\n"
     ]
    },
    {
     "name": "stdout",
     "output_type": "stream",
     "text": [
      "Data concatenation complete.\n",
      "Data loading over\n",
      "------------ Evaluating style-a ------------\n",
      "Dataset:  style-b\n",
      "Loading style-b validation data\n"
     ]
    },
    {
     "name": "stderr",
     "output_type": "stream",
     "text": [
      "100%|██████████| 14/14 [00:02<00:00,  4.73it/s]\n"
     ]
    },
    {
     "name": "stdout",
     "output_type": "stream",
     "text": [
      "Data concatenation complete.\n",
      "Data loading over\n",
      "Loading style-b validation data\n"
     ]
    },
    {
     "name": "stderr",
     "output_type": "stream",
     "text": [
      "100%|██████████| 14/14 [00:02<00:00,  4.77it/s]\n"
     ]
    },
    {
     "name": "stdout",
     "output_type": "stream",
     "text": [
      "Data concatenation complete.\n",
      "Data loading over\n",
      "------------ Evaluating style-b ------------\n",
      "Dataset:  flatvel-a\n",
      "Loading flatvel-a validation data\n"
     ]
    },
    {
     "name": "stderr",
     "output_type": "stream",
     "text": [
      "100%|██████████| 12/12 [00:02<00:00,  4.70it/s]\n"
     ]
    },
    {
     "name": "stdout",
     "output_type": "stream",
     "text": [
      "Data concatenation complete.\n",
      "Data loading over\n",
      "Loading flatvel-a validation data\n"
     ]
    },
    {
     "name": "stderr",
     "output_type": "stream",
     "text": [
      "100%|██████████| 12/12 [00:02<00:00,  4.69it/s]\n"
     ]
    },
    {
     "name": "stdout",
     "output_type": "stream",
     "text": [
      "Data concatenation complete.\n",
      "Data loading over\n",
      "------------ Evaluating flatvel-a ------------\n",
      "Dataset:  flatvel-b\n",
      "Loading flatvel-b validation data\n"
     ]
    },
    {
     "name": "stderr",
     "output_type": "stream",
     "text": [
      "100%|██████████| 12/12 [00:02<00:00,  5.10it/s]\n"
     ]
    },
    {
     "name": "stdout",
     "output_type": "stream",
     "text": [
      "Data concatenation complete.\n",
      "Data loading over\n",
      "Loading flatvel-b validation data\n"
     ]
    },
    {
     "name": "stderr",
     "output_type": "stream",
     "text": [
      "100%|██████████| 12/12 [00:02<00:00,  5.11it/s]\n"
     ]
    },
    {
     "name": "stdout",
     "output_type": "stream",
     "text": [
      "Data concatenation complete.\n",
      "Data loading over\n",
      "------------ Evaluating flatvel-b ------------\n",
      "Dataset:  curvevel-a\n",
      "Loading curvevel-a validation data\n"
     ]
    },
    {
     "name": "stderr",
     "output_type": "stream",
     "text": [
      "100%|██████████| 12/12 [00:02<00:00,  4.69it/s]\n"
     ]
    },
    {
     "name": "stdout",
     "output_type": "stream",
     "text": [
      "Data concatenation complete.\n",
      "Data loading over\n",
      "Loading curvevel-a validation data\n"
     ]
    },
    {
     "name": "stderr",
     "output_type": "stream",
     "text": [
      "100%|██████████| 12/12 [00:02<00:00,  4.80it/s]\n"
     ]
    },
    {
     "name": "stdout",
     "output_type": "stream",
     "text": [
      "Data concatenation complete.\n",
      "Data loading over\n",
      "------------ Evaluating curvevel-a ------------\n",
      "Dataset:  curvevel-b\n",
      "Loading curvevel-b validation data\n"
     ]
    },
    {
     "name": "stderr",
     "output_type": "stream",
     "text": [
      "100%|██████████| 12/12 [00:02<00:00,  4.88it/s]\n"
     ]
    },
    {
     "name": "stdout",
     "output_type": "stream",
     "text": [
      "Data concatenation complete.\n",
      "Data loading over\n",
      "Loading curvevel-b validation data\n"
     ]
    },
    {
     "name": "stderr",
     "output_type": "stream",
     "text": [
      "100%|██████████| 12/12 [00:02<00:00,  4.88it/s]\n"
     ]
    },
    {
     "name": "stdout",
     "output_type": "stream",
     "text": [
      "Data concatenation complete.\n",
      "Data loading over\n",
      "------------ Evaluating curvevel-b ------------\n",
      "Dataset:  flatfault-a\n",
      "Loading flatfault-a validation data\n"
     ]
    },
    {
     "name": "stderr",
     "output_type": "stream",
     "text": [
      "100%|██████████| 12/12 [00:02<00:00,  4.58it/s]\n"
     ]
    },
    {
     "name": "stdout",
     "output_type": "stream",
     "text": [
      "Data concatenation complete.\n",
      "Data loading over\n",
      "Loading flatfault-a validation data\n"
     ]
    },
    {
     "name": "stderr",
     "output_type": "stream",
     "text": [
      "100%|██████████| 12/12 [00:02<00:00,  4.60it/s]\n"
     ]
    },
    {
     "name": "stdout",
     "output_type": "stream",
     "text": [
      "Data concatenation complete.\n",
      "Data loading over\n",
      "------------ Evaluating flatfault-a ------------\n",
      "Dataset:  flatfault-b\n",
      "Loading flatfault-b validation data\n"
     ]
    },
    {
     "name": "stderr",
     "output_type": "stream",
     "text": [
      "100%|██████████| 12/12 [00:02<00:00,  4.22it/s]\n"
     ]
    },
    {
     "name": "stdout",
     "output_type": "stream",
     "text": [
      "Data concatenation complete.\n",
      "Data loading over\n",
      "Loading flatfault-b validation data\n"
     ]
    },
    {
     "name": "stderr",
     "output_type": "stream",
     "text": [
      "100%|██████████| 12/12 [00:02<00:00,  4.19it/s]\n"
     ]
    },
    {
     "name": "stdout",
     "output_type": "stream",
     "text": [
      "Data concatenation complete.\n",
      "Data loading over\n",
      "------------ Evaluating flatfault-b ------------\n",
      "Dataset:  curvefault-a\n",
      "Loading curvefault-a validation data\n"
     ]
    },
    {
     "name": "stderr",
     "output_type": "stream",
     "text": [
      "100%|██████████| 12/12 [00:02<00:00,  4.59it/s]\n"
     ]
    },
    {
     "name": "stdout",
     "output_type": "stream",
     "text": [
      "Data concatenation complete.\n",
      "Data loading over\n",
      "Loading curvefault-a validation data\n"
     ]
    },
    {
     "name": "stderr",
     "output_type": "stream",
     "text": [
      "100%|██████████| 12/12 [00:02<00:00,  4.58it/s]\n"
     ]
    },
    {
     "name": "stdout",
     "output_type": "stream",
     "text": [
      "Data concatenation complete.\n",
      "Data loading over\n",
      "------------ Evaluating curvefault-a ------------\n",
      "Dataset:  curvefault-b\n",
      "Loading curvefault-b validation data\n"
     ]
    },
    {
     "name": "stderr",
     "output_type": "stream",
     "text": [
      "100%|██████████| 12/12 [00:02<00:00,  4.74it/s]\n"
     ]
    },
    {
     "name": "stdout",
     "output_type": "stream",
     "text": [
      "Data concatenation complete.\n",
      "Data loading over\n",
      "Loading curvefault-b validation data\n"
     ]
    },
    {
     "name": "stderr",
     "output_type": "stream",
     "text": [
      "100%|██████████| 12/12 [00:02<00:00,  4.75it/s]\n"
     ]
    },
    {
     "name": "stdout",
     "output_type": "stream",
     "text": [
      "Data concatenation complete.\n",
      "Data loading over\n",
      "------------ Evaluating curvefault-b ------------\n",
      "Dataset:  style-a\n",
      "Loading style-a validation data\n"
     ]
    },
    {
     "name": "stderr",
     "output_type": "stream",
     "text": [
      "100%|██████████| 14/14 [00:02<00:00,  4.73it/s]\n"
     ]
    },
    {
     "name": "stdout",
     "output_type": "stream",
     "text": [
      "Data concatenation complete.\n",
      "Data loading over\n",
      "Loading style-a validation data\n"
     ]
    },
    {
     "name": "stderr",
     "output_type": "stream",
     "text": [
      "100%|██████████| 14/14 [00:02<00:00,  4.74it/s]\n"
     ]
    },
    {
     "name": "stdout",
     "output_type": "stream",
     "text": [
      "Data concatenation complete.\n",
      "Data loading over\n",
      "------------ Evaluating style-a ------------\n",
      "Dataset:  style-b\n",
      "Loading style-b validation data\n"
     ]
    },
    {
     "name": "stderr",
     "output_type": "stream",
     "text": [
      "100%|██████████| 14/14 [00:02<00:00,  4.76it/s]\n"
     ]
    },
    {
     "name": "stdout",
     "output_type": "stream",
     "text": [
      "Data concatenation complete.\n",
      "Data loading over\n",
      "Loading style-b validation data\n"
     ]
    },
    {
     "name": "stderr",
     "output_type": "stream",
     "text": [
      "100%|██████████| 14/14 [00:02<00:00,  4.78it/s]\n"
     ]
    },
    {
     "name": "stdout",
     "output_type": "stream",
     "text": [
      "Data concatenation complete.\n",
      "Data loading over\n",
      "------------ Evaluating style-b ------------\n",
      "Dataset:  flatvel-a\n",
      "Loading flatvel-a validation data\n"
     ]
    },
    {
     "name": "stderr",
     "output_type": "stream",
     "text": [
      "100%|██████████| 12/12 [00:02<00:00,  4.49it/s]\n"
     ]
    },
    {
     "name": "stdout",
     "output_type": "stream",
     "text": [
      "Data concatenation complete.\n",
      "Data loading over\n",
      "Loading flatvel-a validation data\n"
     ]
    },
    {
     "name": "stderr",
     "output_type": "stream",
     "text": [
      "100%|██████████| 12/12 [00:02<00:00,  4.50it/s]\n"
     ]
    },
    {
     "name": "stdout",
     "output_type": "stream",
     "text": [
      "Data concatenation complete.\n",
      "Data loading over\n",
      "------------ Evaluating flatvel-a ------------\n",
      "Dataset:  flatvel-b\n",
      "Loading flatvel-b validation data\n"
     ]
    },
    {
     "name": "stderr",
     "output_type": "stream",
     "text": [
      "100%|██████████| 12/12 [00:02<00:00,  4.81it/s]\n"
     ]
    },
    {
     "name": "stdout",
     "output_type": "stream",
     "text": [
      "Data concatenation complete.\n",
      "Data loading over\n",
      "Loading flatvel-b validation data\n"
     ]
    },
    {
     "name": "stderr",
     "output_type": "stream",
     "text": [
      "100%|██████████| 12/12 [00:02<00:00,  4.84it/s]\n"
     ]
    },
    {
     "name": "stdout",
     "output_type": "stream",
     "text": [
      "Data concatenation complete.\n",
      "Data loading over\n",
      "------------ Evaluating flatvel-b ------------\n",
      "Dataset:  curvevel-a\n",
      "Loading curvevel-a validation data\n"
     ]
    },
    {
     "name": "stderr",
     "output_type": "stream",
     "text": [
      "100%|██████████| 12/12 [00:02<00:00,  4.84it/s]\n"
     ]
    },
    {
     "name": "stdout",
     "output_type": "stream",
     "text": [
      "Data concatenation complete.\n",
      "Data loading over\n",
      "Loading curvevel-a validation data\n"
     ]
    },
    {
     "name": "stderr",
     "output_type": "stream",
     "text": [
      "100%|██████████| 12/12 [00:02<00:00,  4.84it/s]\n"
     ]
    },
    {
     "name": "stdout",
     "output_type": "stream",
     "text": [
      "Data concatenation complete.\n",
      "Data loading over\n",
      "------------ Evaluating curvevel-a ------------\n",
      "Dataset:  curvevel-b\n",
      "Loading curvevel-b validation data\n"
     ]
    },
    {
     "name": "stderr",
     "output_type": "stream",
     "text": [
      "100%|██████████| 12/12 [00:02<00:00,  4.86it/s]\n"
     ]
    },
    {
     "name": "stdout",
     "output_type": "stream",
     "text": [
      "Data concatenation complete.\n",
      "Data loading over\n",
      "Loading curvevel-b validation data\n"
     ]
    },
    {
     "name": "stderr",
     "output_type": "stream",
     "text": [
      "100%|██████████| 12/12 [00:02<00:00,  4.87it/s]\n"
     ]
    },
    {
     "name": "stdout",
     "output_type": "stream",
     "text": [
      "Data concatenation complete.\n",
      "Data loading over\n",
      "------------ Evaluating curvevel-b ------------\n",
      "Dataset:  flatfault-a\n",
      "Loading flatfault-a validation data\n"
     ]
    },
    {
     "name": "stderr",
     "output_type": "stream",
     "text": [
      "100%|██████████| 12/12 [00:02<00:00,  4.59it/s]\n"
     ]
    },
    {
     "name": "stdout",
     "output_type": "stream",
     "text": [
      "Data concatenation complete.\n",
      "Data loading over\n",
      "Loading flatfault-a validation data\n"
     ]
    },
    {
     "name": "stderr",
     "output_type": "stream",
     "text": [
      "100%|██████████| 12/12 [00:02<00:00,  4.59it/s]\n"
     ]
    },
    {
     "name": "stdout",
     "output_type": "stream",
     "text": [
      "Data concatenation complete.\n",
      "Data loading over\n",
      "------------ Evaluating flatfault-a ------------\n",
      "Dataset:  flatfault-b\n",
      "Loading flatfault-b validation data\n"
     ]
    },
    {
     "name": "stderr",
     "output_type": "stream",
     "text": [
      "100%|██████████| 12/12 [00:02<00:00,  4.18it/s]\n"
     ]
    },
    {
     "name": "stdout",
     "output_type": "stream",
     "text": [
      "Data concatenation complete.\n",
      "Data loading over\n",
      "Loading flatfault-b validation data\n"
     ]
    },
    {
     "name": "stderr",
     "output_type": "stream",
     "text": [
      "100%|██████████| 12/12 [00:02<00:00,  4.14it/s]\n"
     ]
    },
    {
     "name": "stdout",
     "output_type": "stream",
     "text": [
      "Data concatenation complete.\n",
      "Data loading over\n",
      "------------ Evaluating flatfault-b ------------\n",
      "Dataset:  curvefault-a\n",
      "Loading curvefault-a validation data\n"
     ]
    },
    {
     "name": "stderr",
     "output_type": "stream",
     "text": [
      "100%|██████████| 12/12 [00:02<00:00,  4.64it/s]\n"
     ]
    },
    {
     "name": "stdout",
     "output_type": "stream",
     "text": [
      "Data concatenation complete.\n",
      "Data loading over\n",
      "Loading curvefault-a validation data\n"
     ]
    },
    {
     "name": "stderr",
     "output_type": "stream",
     "text": [
      "100%|██████████| 12/12 [00:02<00:00,  4.64it/s]\n"
     ]
    },
    {
     "name": "stdout",
     "output_type": "stream",
     "text": [
      "Data concatenation complete.\n",
      "Data loading over\n",
      "------------ Evaluating curvefault-a ------------\n",
      "Dataset:  curvefault-b\n",
      "Loading curvefault-b validation data\n"
     ]
    },
    {
     "name": "stderr",
     "output_type": "stream",
     "text": [
      "100%|██████████| 12/12 [00:02<00:00,  4.71it/s]\n"
     ]
    },
    {
     "name": "stdout",
     "output_type": "stream",
     "text": [
      "Data concatenation complete.\n",
      "Data loading over\n",
      "Loading curvefault-b validation data\n"
     ]
    },
    {
     "name": "stderr",
     "output_type": "stream",
     "text": [
      "100%|██████████| 12/12 [00:02<00:00,  4.77it/s]\n"
     ]
    },
    {
     "name": "stdout",
     "output_type": "stream",
     "text": [
      "Data concatenation complete.\n",
      "Data loading over\n",
      "------------ Evaluating curvefault-b ------------\n",
      "Dataset:  style-a\n",
      "Loading style-a validation data\n"
     ]
    },
    {
     "name": "stderr",
     "output_type": "stream",
     "text": [
      "100%|██████████| 14/14 [00:02<00:00,  4.80it/s]\n"
     ]
    },
    {
     "name": "stdout",
     "output_type": "stream",
     "text": [
      "Data concatenation complete.\n",
      "Data loading over\n",
      "Loading style-a validation data\n"
     ]
    },
    {
     "name": "stderr",
     "output_type": "stream",
     "text": [
      "100%|██████████| 14/14 [00:02<00:00,  4.78it/s]\n"
     ]
    },
    {
     "name": "stdout",
     "output_type": "stream",
     "text": [
      "Data concatenation complete.\n",
      "Data loading over\n",
      "------------ Evaluating style-a ------------\n",
      "Dataset:  style-b\n",
      "Loading style-b validation data\n"
     ]
    },
    {
     "name": "stderr",
     "output_type": "stream",
     "text": [
      "100%|██████████| 14/14 [00:02<00:00,  4.80it/s]\n"
     ]
    },
    {
     "name": "stdout",
     "output_type": "stream",
     "text": [
      "Data concatenation complete.\n",
      "Data loading over\n",
      "Loading style-b validation data\n"
     ]
    },
    {
     "name": "stderr",
     "output_type": "stream",
     "text": [
      "100%|██████████| 14/14 [00:02<00:00,  4.83it/s]\n"
     ]
    },
    {
     "name": "stdout",
     "output_type": "stream",
     "text": [
      "Data concatenation complete.\n",
      "Data loading over\n",
      "------------ Evaluating style-b ------------\n",
      "Dataset:  flatvel-a\n",
      "Loading flatvel-a validation data\n"
     ]
    },
    {
     "name": "stderr",
     "output_type": "stream",
     "text": [
      "100%|██████████| 12/12 [00:02<00:00,  4.51it/s]\n"
     ]
    },
    {
     "name": "stdout",
     "output_type": "stream",
     "text": [
      "Data concatenation complete.\n",
      "Data loading over\n",
      "Loading flatvel-a validation data\n"
     ]
    },
    {
     "name": "stderr",
     "output_type": "stream",
     "text": [
      "100%|██████████| 12/12 [00:02<00:00,  4.51it/s]\n"
     ]
    },
    {
     "name": "stdout",
     "output_type": "stream",
     "text": [
      "Data concatenation complete.\n",
      "Data loading over\n",
      "------------ Evaluating flatvel-a ------------\n",
      "Dataset:  flatvel-b\n",
      "Loading flatvel-b validation data\n"
     ]
    },
    {
     "name": "stderr",
     "output_type": "stream",
     "text": [
      "100%|██████████| 12/12 [00:02<00:00,  4.84it/s]\n"
     ]
    },
    {
     "name": "stdout",
     "output_type": "stream",
     "text": [
      "Data concatenation complete.\n",
      "Data loading over\n",
      "Loading flatvel-b validation data\n"
     ]
    },
    {
     "name": "stderr",
     "output_type": "stream",
     "text": [
      "100%|██████████| 12/12 [00:02<00:00,  4.87it/s]\n"
     ]
    },
    {
     "name": "stdout",
     "output_type": "stream",
     "text": [
      "Data concatenation complete.\n",
      "Data loading over\n",
      "------------ Evaluating flatvel-b ------------\n",
      "Dataset:  curvevel-a\n",
      "Loading curvevel-a validation data\n"
     ]
    },
    {
     "name": "stderr",
     "output_type": "stream",
     "text": [
      "100%|██████████| 12/12 [00:02<00:00,  4.87it/s]\n"
     ]
    },
    {
     "name": "stdout",
     "output_type": "stream",
     "text": [
      "Data concatenation complete.\n",
      "Data loading over\n",
      "Loading curvevel-a validation data\n"
     ]
    },
    {
     "name": "stderr",
     "output_type": "stream",
     "text": [
      "100%|██████████| 12/12 [00:02<00:00,  4.90it/s]\n"
     ]
    },
    {
     "name": "stdout",
     "output_type": "stream",
     "text": [
      "Data concatenation complete.\n",
      "Data loading over\n",
      "------------ Evaluating curvevel-a ------------\n",
      "Dataset:  curvevel-b\n",
      "Loading curvevel-b validation data\n"
     ]
    },
    {
     "name": "stderr",
     "output_type": "stream",
     "text": [
      "100%|██████████| 12/12 [00:02<00:00,  4.79it/s]\n"
     ]
    },
    {
     "name": "stdout",
     "output_type": "stream",
     "text": [
      "Data concatenation complete.\n",
      "Data loading over\n",
      "Loading curvevel-b validation data\n"
     ]
    },
    {
     "name": "stderr",
     "output_type": "stream",
     "text": [
      "100%|██████████| 12/12 [00:02<00:00,  4.68it/s]\n"
     ]
    },
    {
     "name": "stdout",
     "output_type": "stream",
     "text": [
      "Data concatenation complete.\n",
      "Data loading over\n",
      "------------ Evaluating curvevel-b ------------\n",
      "Dataset:  flatfault-a\n",
      "Loading flatfault-a validation data\n"
     ]
    },
    {
     "name": "stderr",
     "output_type": "stream",
     "text": [
      "100%|██████████| 12/12 [00:02<00:00,  4.60it/s]\n"
     ]
    },
    {
     "name": "stdout",
     "output_type": "stream",
     "text": [
      "Data concatenation complete.\n",
      "Data loading over\n",
      "Loading flatfault-a validation data\n"
     ]
    },
    {
     "name": "stderr",
     "output_type": "stream",
     "text": [
      "100%|██████████| 12/12 [00:02<00:00,  4.61it/s]\n"
     ]
    },
    {
     "name": "stdout",
     "output_type": "stream",
     "text": [
      "Data concatenation complete.\n",
      "Data loading over\n",
      "------------ Evaluating flatfault-a ------------\n",
      "Dataset:  flatfault-b\n",
      "Loading flatfault-b validation data\n"
     ]
    },
    {
     "name": "stderr",
     "output_type": "stream",
     "text": [
      "100%|██████████| 12/12 [00:02<00:00,  4.19it/s]\n"
     ]
    },
    {
     "name": "stdout",
     "output_type": "stream",
     "text": [
      "Data concatenation complete.\n",
      "Data loading over\n",
      "Loading flatfault-b validation data\n"
     ]
    },
    {
     "name": "stderr",
     "output_type": "stream",
     "text": [
      "100%|██████████| 12/12 [00:02<00:00,  4.20it/s]\n"
     ]
    },
    {
     "name": "stdout",
     "output_type": "stream",
     "text": [
      "Data concatenation complete.\n",
      "Data loading over\n",
      "------------ Evaluating flatfault-b ------------\n",
      "Dataset:  curvefault-a\n",
      "Loading curvefault-a validation data\n"
     ]
    },
    {
     "name": "stderr",
     "output_type": "stream",
     "text": [
      "100%|██████████| 12/12 [00:02<00:00,  4.64it/s]\n"
     ]
    },
    {
     "name": "stdout",
     "output_type": "stream",
     "text": [
      "Data concatenation complete.\n",
      "Data loading over\n",
      "Loading curvefault-a validation data\n"
     ]
    },
    {
     "name": "stderr",
     "output_type": "stream",
     "text": [
      "100%|██████████| 12/12 [00:02<00:00,  4.64it/s]\n"
     ]
    },
    {
     "name": "stdout",
     "output_type": "stream",
     "text": [
      "Data concatenation complete.\n",
      "Data loading over\n",
      "------------ Evaluating curvefault-a ------------\n",
      "Dataset:  curvefault-b\n",
      "Loading curvefault-b validation data\n"
     ]
    },
    {
     "name": "stderr",
     "output_type": "stream",
     "text": [
      "100%|██████████| 12/12 [00:02<00:00,  4.76it/s]\n"
     ]
    },
    {
     "name": "stdout",
     "output_type": "stream",
     "text": [
      "Data concatenation complete.\n",
      "Data loading over\n",
      "Loading curvefault-b validation data\n"
     ]
    },
    {
     "name": "stderr",
     "output_type": "stream",
     "text": [
      "100%|██████████| 12/12 [00:02<00:00,  4.75it/s]\n"
     ]
    },
    {
     "name": "stdout",
     "output_type": "stream",
     "text": [
      "Data concatenation complete.\n",
      "Data loading over\n",
      "------------ Evaluating curvefault-b ------------\n",
      "Dataset:  style-a\n",
      "Loading style-a validation data\n"
     ]
    },
    {
     "name": "stderr",
     "output_type": "stream",
     "text": [
      "100%|██████████| 14/14 [00:03<00:00,  4.45it/s]\n"
     ]
    },
    {
     "name": "stdout",
     "output_type": "stream",
     "text": [
      "Data concatenation complete.\n",
      "Data loading over\n",
      "Loading style-a validation data\n"
     ]
    },
    {
     "name": "stderr",
     "output_type": "stream",
     "text": [
      "100%|██████████| 14/14 [00:03<00:00,  4.56it/s]\n"
     ]
    },
    {
     "name": "stdout",
     "output_type": "stream",
     "text": [
      "Data concatenation complete.\n",
      "Data loading over\n",
      "------------ Evaluating style-a ------------\n",
      "Dataset:  style-b\n",
      "Loading style-b validation data\n"
     ]
    },
    {
     "name": "stderr",
     "output_type": "stream",
     "text": [
      "100%|██████████| 14/14 [00:02<00:00,  4.79it/s]\n"
     ]
    },
    {
     "name": "stdout",
     "output_type": "stream",
     "text": [
      "Data concatenation complete.\n",
      "Data loading over\n",
      "Loading style-b validation data\n"
     ]
    },
    {
     "name": "stderr",
     "output_type": "stream",
     "text": [
      "100%|██████████| 14/14 [00:02<00:00,  4.82it/s]\n"
     ]
    },
    {
     "name": "stdout",
     "output_type": "stream",
     "text": [
      "Data concatenation complete.\n",
      "Data loading over\n",
      "------------ Evaluating style-b ------------\n",
      "Dataset:  flatvel-a\n",
      "Loading flatvel-a validation data\n"
     ]
    },
    {
     "name": "stderr",
     "output_type": "stream",
     "text": [
      "100%|██████████| 12/12 [00:02<00:00,  4.50it/s]\n"
     ]
    },
    {
     "name": "stdout",
     "output_type": "stream",
     "text": [
      "Data concatenation complete.\n",
      "Data loading over\n",
      "Loading flatvel-a validation data\n"
     ]
    },
    {
     "name": "stderr",
     "output_type": "stream",
     "text": [
      "100%|██████████| 12/12 [00:02<00:00,  4.53it/s]\n"
     ]
    },
    {
     "name": "stdout",
     "output_type": "stream",
     "text": [
      "Data concatenation complete.\n",
      "Data loading over\n",
      "------------ Evaluating flatvel-a ------------\n",
      "Dataset:  flatvel-b\n",
      "Loading flatvel-b validation data\n"
     ]
    },
    {
     "name": "stderr",
     "output_type": "stream",
     "text": [
      "100%|██████████| 12/12 [00:02<00:00,  5.11it/s]\n"
     ]
    },
    {
     "name": "stdout",
     "output_type": "stream",
     "text": [
      "Data concatenation complete.\n",
      "Data loading over\n",
      "Loading flatvel-b validation data\n"
     ]
    },
    {
     "name": "stderr",
     "output_type": "stream",
     "text": [
      "100%|██████████| 12/12 [00:02<00:00,  5.07it/s]\n"
     ]
    },
    {
     "name": "stdout",
     "output_type": "stream",
     "text": [
      "Data concatenation complete.\n",
      "Data loading over\n",
      "------------ Evaluating flatvel-b ------------\n",
      "Dataset:  curvevel-a\n",
      "Loading curvevel-a validation data\n"
     ]
    },
    {
     "name": "stderr",
     "output_type": "stream",
     "text": [
      "100%|██████████| 12/12 [00:02<00:00,  4.82it/s]\n"
     ]
    },
    {
     "name": "stdout",
     "output_type": "stream",
     "text": [
      "Data concatenation complete.\n",
      "Data loading over\n",
      "Loading curvevel-a validation data\n"
     ]
    },
    {
     "name": "stderr",
     "output_type": "stream",
     "text": [
      "100%|██████████| 12/12 [00:02<00:00,  5.04it/s]\n"
     ]
    },
    {
     "name": "stdout",
     "output_type": "stream",
     "text": [
      "Data concatenation complete.\n",
      "Data loading over\n",
      "------------ Evaluating curvevel-a ------------\n",
      "Dataset:  curvevel-b\n",
      "Loading curvevel-b validation data\n"
     ]
    },
    {
     "name": "stderr",
     "output_type": "stream",
     "text": [
      "100%|██████████| 12/12 [00:02<00:00,  4.81it/s]\n"
     ]
    },
    {
     "name": "stdout",
     "output_type": "stream",
     "text": [
      "Data concatenation complete.\n",
      "Data loading over\n",
      "Loading curvevel-b validation data\n"
     ]
    },
    {
     "name": "stderr",
     "output_type": "stream",
     "text": [
      "100%|██████████| 12/12 [00:02<00:00,  4.84it/s]\n"
     ]
    },
    {
     "name": "stdout",
     "output_type": "stream",
     "text": [
      "Data concatenation complete.\n",
      "Data loading over\n",
      "------------ Evaluating curvevel-b ------------\n",
      "Dataset:  flatfault-a\n",
      "Loading flatfault-a validation data\n"
     ]
    },
    {
     "name": "stderr",
     "output_type": "stream",
     "text": [
      "100%|██████████| 12/12 [00:02<00:00,  4.76it/s]\n"
     ]
    },
    {
     "name": "stdout",
     "output_type": "stream",
     "text": [
      "Data concatenation complete.\n",
      "Data loading over\n",
      "Loading flatfault-a validation data\n"
     ]
    },
    {
     "name": "stderr",
     "output_type": "stream",
     "text": [
      "100%|██████████| 12/12 [00:02<00:00,  4.76it/s]\n"
     ]
    },
    {
     "name": "stdout",
     "output_type": "stream",
     "text": [
      "Data concatenation complete.\n",
      "Data loading over\n",
      "------------ Evaluating flatfault-a ------------\n",
      "Dataset:  flatfault-b\n",
      "Loading flatfault-b validation data\n"
     ]
    },
    {
     "name": "stderr",
     "output_type": "stream",
     "text": [
      "100%|██████████| 12/12 [00:02<00:00,  4.39it/s]\n"
     ]
    },
    {
     "name": "stdout",
     "output_type": "stream",
     "text": [
      "Data concatenation complete.\n",
      "Data loading over\n",
      "Loading flatfault-b validation data\n"
     ]
    },
    {
     "name": "stderr",
     "output_type": "stream",
     "text": [
      "100%|██████████| 12/12 [00:02<00:00,  4.37it/s]\n"
     ]
    },
    {
     "name": "stdout",
     "output_type": "stream",
     "text": [
      "Data concatenation complete.\n",
      "Data loading over\n",
      "------------ Evaluating flatfault-b ------------\n",
      "Dataset:  curvefault-a\n",
      "Loading curvefault-a validation data\n"
     ]
    },
    {
     "name": "stderr",
     "output_type": "stream",
     "text": [
      "100%|██████████| 12/12 [00:02<00:00,  4.82it/s]\n"
     ]
    },
    {
     "name": "stdout",
     "output_type": "stream",
     "text": [
      "Data concatenation complete.\n",
      "Data loading over\n",
      "Loading curvefault-a validation data\n"
     ]
    },
    {
     "name": "stderr",
     "output_type": "stream",
     "text": [
      "100%|██████████| 12/12 [00:02<00:00,  4.86it/s]\n"
     ]
    },
    {
     "name": "stdout",
     "output_type": "stream",
     "text": [
      "Data concatenation complete.\n",
      "Data loading over\n",
      "------------ Evaluating curvefault-a ------------\n",
      "Dataset:  curvefault-b\n",
      "Loading curvefault-b validation data\n"
     ]
    },
    {
     "name": "stderr",
     "output_type": "stream",
     "text": [
      "100%|██████████| 12/12 [00:02<00:00,  4.62it/s]\n"
     ]
    },
    {
     "name": "stdout",
     "output_type": "stream",
     "text": [
      "Data concatenation complete.\n",
      "Data loading over\n",
      "Loading curvefault-b validation data\n"
     ]
    },
    {
     "name": "stderr",
     "output_type": "stream",
     "text": [
      "100%|██████████| 12/12 [00:02<00:00,  4.48it/s]\n"
     ]
    },
    {
     "name": "stdout",
     "output_type": "stream",
     "text": [
      "Data concatenation complete.\n",
      "Data loading over\n",
      "------------ Evaluating curvefault-b ------------\n",
      "Dataset:  style-a\n",
      "Loading style-a validation data\n"
     ]
    },
    {
     "name": "stderr",
     "output_type": "stream",
     "text": [
      "100%|██████████| 14/14 [00:02<00:00,  4.73it/s]\n"
     ]
    },
    {
     "name": "stdout",
     "output_type": "stream",
     "text": [
      "Data concatenation complete.\n",
      "Data loading over\n",
      "Loading style-a validation data\n"
     ]
    },
    {
     "name": "stderr",
     "output_type": "stream",
     "text": [
      "100%|██████████| 14/14 [00:02<00:00,  4.91it/s]\n"
     ]
    },
    {
     "name": "stdout",
     "output_type": "stream",
     "text": [
      "Data concatenation complete.\n",
      "Data loading over\n",
      "------------ Evaluating style-a ------------\n",
      "Dataset:  style-b\n",
      "Loading style-b validation data\n"
     ]
    },
    {
     "name": "stderr",
     "output_type": "stream",
     "text": [
      "100%|██████████| 14/14 [00:02<00:00,  4.81it/s]\n"
     ]
    },
    {
     "name": "stdout",
     "output_type": "stream",
     "text": [
      "Data concatenation complete.\n",
      "Data loading over\n",
      "Loading style-b validation data\n"
     ]
    },
    {
     "name": "stderr",
     "output_type": "stream",
     "text": [
      "100%|██████████| 14/14 [00:02<00:00,  4.76it/s]\n"
     ]
    },
    {
     "name": "stdout",
     "output_type": "stream",
     "text": [
      "Data concatenation complete.\n",
      "Data loading over\n",
      "------------ Evaluating style-b ------------\n",
      "Dataset:  flatvel-a\n",
      "Loading flatvel-a validation data\n"
     ]
    },
    {
     "name": "stderr",
     "output_type": "stream",
     "text": [
      "100%|██████████| 12/12 [00:02<00:00,  4.65it/s]\n"
     ]
    },
    {
     "name": "stdout",
     "output_type": "stream",
     "text": [
      "Data concatenation complete.\n",
      "Data loading over\n",
      "Loading flatvel-a validation data\n"
     ]
    },
    {
     "name": "stderr",
     "output_type": "stream",
     "text": [
      "100%|██████████| 12/12 [00:02<00:00,  4.62it/s]\n"
     ]
    },
    {
     "name": "stdout",
     "output_type": "stream",
     "text": [
      "Data concatenation complete.\n",
      "Data loading over\n",
      "------------ Evaluating flatvel-a ------------\n",
      "Dataset:  flatvel-b\n",
      "Loading flatvel-b validation data\n"
     ]
    },
    {
     "name": "stderr",
     "output_type": "stream",
     "text": [
      "100%|██████████| 12/12 [00:02<00:00,  4.74it/s]\n"
     ]
    },
    {
     "name": "stdout",
     "output_type": "stream",
     "text": [
      "Data concatenation complete.\n",
      "Data loading over\n",
      "Loading flatvel-b validation data\n"
     ]
    },
    {
     "name": "stderr",
     "output_type": "stream",
     "text": [
      "100%|██████████| 12/12 [00:02<00:00,  4.68it/s]\n"
     ]
    },
    {
     "name": "stdout",
     "output_type": "stream",
     "text": [
      "Data concatenation complete.\n",
      "Data loading over\n",
      "------------ Evaluating flatvel-b ------------\n",
      "Dataset:  curvevel-a\n",
      "Loading curvevel-a validation data\n"
     ]
    },
    {
     "name": "stderr",
     "output_type": "stream",
     "text": [
      "100%|██████████| 12/12 [00:02<00:00,  5.09it/s]\n"
     ]
    },
    {
     "name": "stdout",
     "output_type": "stream",
     "text": [
      "Data concatenation complete.\n",
      "Data loading over\n",
      "Loading curvevel-a validation data\n"
     ]
    },
    {
     "name": "stderr",
     "output_type": "stream",
     "text": [
      "100%|██████████| 12/12 [00:02<00:00,  5.04it/s]\n"
     ]
    },
    {
     "name": "stdout",
     "output_type": "stream",
     "text": [
      "Data concatenation complete.\n",
      "Data loading over\n",
      "------------ Evaluating curvevel-a ------------\n",
      "Dataset:  curvevel-b\n",
      "Loading curvevel-b validation data\n"
     ]
    },
    {
     "name": "stderr",
     "output_type": "stream",
     "text": [
      "100%|██████████| 12/12 [00:02<00:00,  4.81it/s]\n"
     ]
    },
    {
     "name": "stdout",
     "output_type": "stream",
     "text": [
      "Data concatenation complete.\n",
      "Data loading over\n",
      "Loading curvevel-b validation data\n"
     ]
    },
    {
     "name": "stderr",
     "output_type": "stream",
     "text": [
      "100%|██████████| 12/12 [00:02<00:00,  4.82it/s]\n"
     ]
    },
    {
     "name": "stdout",
     "output_type": "stream",
     "text": [
      "Data concatenation complete.\n",
      "Data loading over\n",
      "------------ Evaluating curvevel-b ------------\n",
      "Dataset:  flatfault-a\n",
      "Loading flatfault-a validation data\n"
     ]
    },
    {
     "name": "stderr",
     "output_type": "stream",
     "text": [
      "100%|██████████| 12/12 [00:02<00:00,  4.67it/s]\n"
     ]
    },
    {
     "name": "stdout",
     "output_type": "stream",
     "text": [
      "Data concatenation complete.\n",
      "Data loading over\n",
      "Loading flatfault-a validation data\n"
     ]
    },
    {
     "name": "stderr",
     "output_type": "stream",
     "text": [
      "100%|██████████| 12/12 [00:02<00:00,  4.72it/s]\n"
     ]
    },
    {
     "name": "stdout",
     "output_type": "stream",
     "text": [
      "Data concatenation complete.\n",
      "Data loading over\n",
      "------------ Evaluating flatfault-a ------------\n",
      "Dataset:  flatfault-b\n",
      "Loading flatfault-b validation data\n"
     ]
    },
    {
     "name": "stderr",
     "output_type": "stream",
     "text": [
      "100%|██████████| 12/12 [00:02<00:00,  4.37it/s]\n"
     ]
    },
    {
     "name": "stdout",
     "output_type": "stream",
     "text": [
      "Data concatenation complete.\n",
      "Data loading over\n",
      "Loading flatfault-b validation data\n"
     ]
    },
    {
     "name": "stderr",
     "output_type": "stream",
     "text": [
      "100%|██████████| 12/12 [00:02<00:00,  4.38it/s]\n"
     ]
    },
    {
     "name": "stdout",
     "output_type": "stream",
     "text": [
      "Data concatenation complete.\n",
      "Data loading over\n",
      "------------ Evaluating flatfault-b ------------\n",
      "Dataset:  curvefault-a\n",
      "Loading curvefault-a validation data\n"
     ]
    },
    {
     "name": "stderr",
     "output_type": "stream",
     "text": [
      "100%|██████████| 12/12 [00:02<00:00,  4.85it/s]\n"
     ]
    },
    {
     "name": "stdout",
     "output_type": "stream",
     "text": [
      "Data concatenation complete.\n",
      "Data loading over\n",
      "Loading curvefault-a validation data\n"
     ]
    },
    {
     "name": "stderr",
     "output_type": "stream",
     "text": [
      "100%|██████████| 12/12 [00:02<00:00,  4.84it/s]\n"
     ]
    },
    {
     "name": "stdout",
     "output_type": "stream",
     "text": [
      "Data concatenation complete.\n",
      "Data loading over\n",
      "------------ Evaluating curvefault-a ------------\n",
      "Dataset:  curvefault-b\n",
      "Loading curvefault-b validation data\n"
     ]
    },
    {
     "name": "stderr",
     "output_type": "stream",
     "text": [
      "100%|██████████| 12/12 [00:02<00:00,  4.74it/s]\n"
     ]
    },
    {
     "name": "stdout",
     "output_type": "stream",
     "text": [
      "Data concatenation complete.\n",
      "Data loading over\n",
      "Loading curvefault-b validation data\n"
     ]
    },
    {
     "name": "stderr",
     "output_type": "stream",
     "text": [
      "100%|██████████| 12/12 [00:02<00:00,  4.72it/s]\n"
     ]
    },
    {
     "name": "stdout",
     "output_type": "stream",
     "text": [
      "Data concatenation complete.\n",
      "Data loading over\n",
      "------------ Evaluating curvefault-b ------------\n",
      "Dataset:  style-a\n",
      "Loading style-a validation data\n"
     ]
    },
    {
     "name": "stderr",
     "output_type": "stream",
     "text": [
      "100%|██████████| 14/14 [00:02<00:00,  4.73it/s]\n"
     ]
    },
    {
     "name": "stdout",
     "output_type": "stream",
     "text": [
      "Data concatenation complete.\n",
      "Data loading over\n",
      "Loading style-a validation data\n"
     ]
    },
    {
     "name": "stderr",
     "output_type": "stream",
     "text": [
      "100%|██████████| 14/14 [00:02<00:00,  4.67it/s]\n"
     ]
    },
    {
     "name": "stdout",
     "output_type": "stream",
     "text": [
      "Data concatenation complete.\n",
      "Data loading over\n",
      "------------ Evaluating style-a ------------\n",
      "Dataset:  style-b\n",
      "Loading style-b validation data\n"
     ]
    },
    {
     "name": "stderr",
     "output_type": "stream",
     "text": [
      "100%|██████████| 14/14 [00:02<00:00,  4.99it/s]\n"
     ]
    },
    {
     "name": "stdout",
     "output_type": "stream",
     "text": [
      "Data concatenation complete.\n",
      "Data loading over\n",
      "Loading style-b validation data\n"
     ]
    },
    {
     "name": "stderr",
     "output_type": "stream",
     "text": [
      "100%|██████████| 14/14 [00:02<00:00,  4.96it/s]\n"
     ]
    },
    {
     "name": "stdout",
     "output_type": "stream",
     "text": [
      "Data concatenation complete.\n",
      "Data loading over\n",
      "------------ Evaluating style-b ------------\n",
      "Dataset:  flatvel-a\n",
      "Loading flatvel-a validation data\n"
     ]
    },
    {
     "name": "stderr",
     "output_type": "stream",
     "text": [
      "100%|██████████| 12/12 [00:02<00:00,  4.63it/s]\n"
     ]
    },
    {
     "name": "stdout",
     "output_type": "stream",
     "text": [
      "Data concatenation complete.\n",
      "Data loading over\n",
      "Loading flatvel-a validation data\n"
     ]
    },
    {
     "name": "stderr",
     "output_type": "stream",
     "text": [
      "100%|██████████| 12/12 [00:02<00:00,  4.66it/s]\n"
     ]
    },
    {
     "name": "stdout",
     "output_type": "stream",
     "text": [
      "Data concatenation complete.\n",
      "Data loading over\n",
      "------------ Evaluating flatvel-a ------------\n",
      "Dataset:  flatvel-b\n",
      "Loading flatvel-b validation data\n"
     ]
    },
    {
     "name": "stderr",
     "output_type": "stream",
     "text": [
      "100%|██████████| 12/12 [00:02<00:00,  4.75it/s]\n"
     ]
    },
    {
     "name": "stdout",
     "output_type": "stream",
     "text": [
      "Data concatenation complete.\n",
      "Data loading over\n",
      "Loading flatvel-b validation data\n"
     ]
    },
    {
     "name": "stderr",
     "output_type": "stream",
     "text": [
      "100%|██████████| 12/12 [00:02<00:00,  4.81it/s]\n"
     ]
    },
    {
     "name": "stdout",
     "output_type": "stream",
     "text": [
      "Data concatenation complete.\n",
      "Data loading over\n",
      "------------ Evaluating flatvel-b ------------\n",
      "Dataset:  curvevel-a\n",
      "Loading curvevel-a validation data\n"
     ]
    },
    {
     "name": "stderr",
     "output_type": "stream",
     "text": [
      "100%|██████████| 12/12 [00:02<00:00,  5.05it/s]\n"
     ]
    },
    {
     "name": "stdout",
     "output_type": "stream",
     "text": [
      "Data concatenation complete.\n",
      "Data loading over\n",
      "Loading curvevel-a validation data\n"
     ]
    },
    {
     "name": "stderr",
     "output_type": "stream",
     "text": [
      "100%|██████████| 12/12 [00:02<00:00,  5.05it/s]\n"
     ]
    },
    {
     "name": "stdout",
     "output_type": "stream",
     "text": [
      "Data concatenation complete.\n",
      "Data loading over\n",
      "------------ Evaluating curvevel-a ------------\n",
      "Dataset:  curvevel-b\n",
      "Loading curvevel-b validation data\n"
     ]
    },
    {
     "name": "stderr",
     "output_type": "stream",
     "text": [
      "100%|██████████| 12/12 [00:02<00:00,  5.10it/s]\n"
     ]
    },
    {
     "name": "stdout",
     "output_type": "stream",
     "text": [
      "Data concatenation complete.\n",
      "Data loading over\n",
      "Loading curvevel-b validation data\n"
     ]
    },
    {
     "name": "stderr",
     "output_type": "stream",
     "text": [
      "100%|██████████| 12/12 [00:02<00:00,  5.11it/s]\n"
     ]
    },
    {
     "name": "stdout",
     "output_type": "stream",
     "text": [
      "Data concatenation complete.\n",
      "Data loading over\n",
      "------------ Evaluating curvevel-b ------------\n",
      "Dataset:  flatfault-a\n",
      "Loading flatfault-a validation data\n"
     ]
    },
    {
     "name": "stderr",
     "output_type": "stream",
     "text": [
      "100%|██████████| 12/12 [00:02<00:00,  4.56it/s]\n"
     ]
    },
    {
     "name": "stdout",
     "output_type": "stream",
     "text": [
      "Data concatenation complete.\n",
      "Data loading over\n",
      "Loading flatfault-a validation data\n"
     ]
    },
    {
     "name": "stderr",
     "output_type": "stream",
     "text": [
      "100%|██████████| 12/12 [00:02<00:00,  4.67it/s]\n"
     ]
    },
    {
     "name": "stdout",
     "output_type": "stream",
     "text": [
      "Data concatenation complete.\n",
      "Data loading over\n",
      "------------ Evaluating flatfault-a ------------\n",
      "Dataset:  flatfault-b\n",
      "Loading flatfault-b validation data\n"
     ]
    },
    {
     "name": "stderr",
     "output_type": "stream",
     "text": [
      "100%|██████████| 12/12 [00:02<00:00,  4.39it/s]\n"
     ]
    },
    {
     "name": "stdout",
     "output_type": "stream",
     "text": [
      "Data concatenation complete.\n",
      "Data loading over\n",
      "Loading flatfault-b validation data\n"
     ]
    },
    {
     "name": "stderr",
     "output_type": "stream",
     "text": [
      "100%|██████████| 12/12 [00:02<00:00,  4.17it/s]\n"
     ]
    },
    {
     "name": "stdout",
     "output_type": "stream",
     "text": [
      "Data concatenation complete.\n",
      "Data loading over\n",
      "------------ Evaluating flatfault-b ------------\n",
      "Dataset:  curvefault-a\n",
      "Loading curvefault-a validation data\n"
     ]
    },
    {
     "name": "stderr",
     "output_type": "stream",
     "text": [
      "100%|██████████| 12/12 [00:02<00:00,  4.77it/s]\n"
     ]
    },
    {
     "name": "stdout",
     "output_type": "stream",
     "text": [
      "Data concatenation complete.\n",
      "Data loading over\n",
      "Loading curvefault-a validation data\n"
     ]
    },
    {
     "name": "stderr",
     "output_type": "stream",
     "text": [
      "100%|██████████| 12/12 [00:02<00:00,  4.78it/s]\n"
     ]
    },
    {
     "name": "stdout",
     "output_type": "stream",
     "text": [
      "Data concatenation complete.\n",
      "Data loading over\n",
      "------------ Evaluating curvefault-a ------------\n",
      "Dataset:  curvefault-b\n",
      "Loading curvefault-b validation data\n"
     ]
    },
    {
     "name": "stderr",
     "output_type": "stream",
     "text": [
      "100%|██████████| 12/12 [00:02<00:00,  4.86it/s]\n"
     ]
    },
    {
     "name": "stdout",
     "output_type": "stream",
     "text": [
      "Data concatenation complete.\n",
      "Data loading over\n",
      "Loading curvefault-b validation data\n"
     ]
    },
    {
     "name": "stderr",
     "output_type": "stream",
     "text": [
      "100%|██████████| 12/12 [00:02<00:00,  4.89it/s]\n"
     ]
    },
    {
     "name": "stdout",
     "output_type": "stream",
     "text": [
      "Data concatenation complete.\n",
      "Data loading over\n",
      "------------ Evaluating curvefault-b ------------\n",
      "Dataset:  style-a\n",
      "Loading style-a validation data\n"
     ]
    },
    {
     "name": "stderr",
     "output_type": "stream",
     "text": [
      "100%|██████████| 14/14 [00:02<00:00,  4.88it/s]\n"
     ]
    },
    {
     "name": "stdout",
     "output_type": "stream",
     "text": [
      "Data concatenation complete.\n",
      "Data loading over\n",
      "Loading style-a validation data\n"
     ]
    },
    {
     "name": "stderr",
     "output_type": "stream",
     "text": [
      "100%|██████████| 14/14 [00:02<00:00,  4.94it/s]\n"
     ]
    },
    {
     "name": "stdout",
     "output_type": "stream",
     "text": [
      "Data concatenation complete.\n",
      "Data loading over\n",
      "------------ Evaluating style-a ------------\n",
      "Dataset:  style-b\n",
      "Loading style-b validation data\n"
     ]
    },
    {
     "name": "stderr",
     "output_type": "stream",
     "text": [
      "100%|██████████| 14/14 [00:02<00:00,  4.94it/s]\n"
     ]
    },
    {
     "name": "stdout",
     "output_type": "stream",
     "text": [
      "Data concatenation complete.\n",
      "Data loading over\n",
      "Loading style-b validation data\n"
     ]
    },
    {
     "name": "stderr",
     "output_type": "stream",
     "text": [
      "100%|██████████| 14/14 [00:02<00:00,  4.98it/s]\n"
     ]
    },
    {
     "name": "stdout",
     "output_type": "stream",
     "text": [
      "Data concatenation complete.\n",
      "Data loading over\n",
      "------------ Evaluating style-b ------------\n",
      "Dataset:  flatvel-a\n",
      "Loading flatvel-a validation data\n"
     ]
    },
    {
     "name": "stderr",
     "output_type": "stream",
     "text": [
      "100%|██████████| 12/12 [00:02<00:00,  4.61it/s]\n"
     ]
    },
    {
     "name": "stdout",
     "output_type": "stream",
     "text": [
      "Data concatenation complete.\n",
      "Data loading over\n",
      "Loading flatvel-a validation data\n"
     ]
    },
    {
     "name": "stderr",
     "output_type": "stream",
     "text": [
      "100%|██████████| 12/12 [00:02<00:00,  4.67it/s]\n"
     ]
    },
    {
     "name": "stdout",
     "output_type": "stream",
     "text": [
      "Data concatenation complete.\n",
      "Data loading over\n",
      "------------ Evaluating flatvel-a ------------\n",
      "Dataset:  flatvel-b\n",
      "Loading flatvel-b validation data\n"
     ]
    },
    {
     "name": "stderr",
     "output_type": "stream",
     "text": [
      "100%|██████████| 12/12 [00:02<00:00,  4.78it/s]\n"
     ]
    },
    {
     "name": "stdout",
     "output_type": "stream",
     "text": [
      "Data concatenation complete.\n",
      "Data loading over\n",
      "Loading flatvel-b validation data\n"
     ]
    },
    {
     "name": "stderr",
     "output_type": "stream",
     "text": [
      "100%|██████████| 12/12 [00:02<00:00,  4.81it/s]\n"
     ]
    },
    {
     "name": "stdout",
     "output_type": "stream",
     "text": [
      "Data concatenation complete.\n",
      "Data loading over\n",
      "------------ Evaluating flatvel-b ------------\n",
      "Dataset:  curvevel-a\n",
      "Loading curvevel-a validation data\n"
     ]
    },
    {
     "name": "stderr",
     "output_type": "stream",
     "text": [
      "100%|██████████| 12/12 [00:02<00:00,  5.08it/s]\n"
     ]
    },
    {
     "name": "stdout",
     "output_type": "stream",
     "text": [
      "Data concatenation complete.\n",
      "Data loading over\n",
      "Loading curvevel-a validation data\n"
     ]
    },
    {
     "name": "stderr",
     "output_type": "stream",
     "text": [
      "100%|██████████| 12/12 [00:02<00:00,  5.07it/s]\n"
     ]
    },
    {
     "name": "stdout",
     "output_type": "stream",
     "text": [
      "Data concatenation complete.\n",
      "Data loading over\n",
      "------------ Evaluating curvevel-a ------------\n",
      "Dataset:  curvevel-b\n",
      "Loading curvevel-b validation data\n"
     ]
    },
    {
     "name": "stderr",
     "output_type": "stream",
     "text": [
      "100%|██████████| 12/12 [00:02<00:00,  5.06it/s]\n"
     ]
    },
    {
     "name": "stdout",
     "output_type": "stream",
     "text": [
      "Data concatenation complete.\n",
      "Data loading over\n",
      "Loading curvevel-b validation data\n"
     ]
    },
    {
     "name": "stderr",
     "output_type": "stream",
     "text": [
      "100%|██████████| 12/12 [00:02<00:00,  5.09it/s]\n"
     ]
    },
    {
     "name": "stdout",
     "output_type": "stream",
     "text": [
      "Data concatenation complete.\n",
      "Data loading over\n",
      "------------ Evaluating curvevel-b ------------\n",
      "Dataset:  flatfault-a\n",
      "Loading flatfault-a validation data\n"
     ]
    },
    {
     "name": "stderr",
     "output_type": "stream",
     "text": [
      "100%|██████████| 12/12 [00:02<00:00,  4.77it/s]\n"
     ]
    },
    {
     "name": "stdout",
     "output_type": "stream",
     "text": [
      "Data concatenation complete.\n",
      "Data loading over\n",
      "Loading flatfault-a validation data\n"
     ]
    },
    {
     "name": "stderr",
     "output_type": "stream",
     "text": [
      "100%|██████████| 12/12 [00:02<00:00,  4.72it/s]\n"
     ]
    },
    {
     "name": "stdout",
     "output_type": "stream",
     "text": [
      "Data concatenation complete.\n",
      "Data loading over\n",
      "------------ Evaluating flatfault-a ------------\n",
      "Dataset:  flatfault-b\n",
      "Loading flatfault-b validation data\n"
     ]
    },
    {
     "name": "stderr",
     "output_type": "stream",
     "text": [
      "100%|██████████| 12/12 [00:02<00:00,  4.37it/s]\n"
     ]
    },
    {
     "name": "stdout",
     "output_type": "stream",
     "text": [
      "Data concatenation complete.\n",
      "Data loading over\n",
      "Loading flatfault-b validation data\n"
     ]
    },
    {
     "name": "stderr",
     "output_type": "stream",
     "text": [
      "100%|██████████| 12/12 [00:02<00:00,  4.38it/s]\n"
     ]
    },
    {
     "name": "stdout",
     "output_type": "stream",
     "text": [
      "Data concatenation complete.\n",
      "Data loading over\n",
      "------------ Evaluating flatfault-b ------------\n",
      "Dataset:  curvefault-a\n",
      "Loading curvefault-a validation data\n"
     ]
    },
    {
     "name": "stderr",
     "output_type": "stream",
     "text": [
      "100%|██████████| 12/12 [00:02<00:00,  4.83it/s]\n"
     ]
    },
    {
     "name": "stdout",
     "output_type": "stream",
     "text": [
      "Data concatenation complete.\n",
      "Data loading over\n",
      "Loading curvefault-a validation data\n"
     ]
    },
    {
     "name": "stderr",
     "output_type": "stream",
     "text": [
      "100%|██████████| 12/12 [00:02<00:00,  4.80it/s]\n"
     ]
    },
    {
     "name": "stdout",
     "output_type": "stream",
     "text": [
      "Data concatenation complete.\n",
      "Data loading over\n",
      "------------ Evaluating curvefault-a ------------\n",
      "Dataset:  curvefault-b\n",
      "Loading curvefault-b validation data\n"
     ]
    },
    {
     "name": "stderr",
     "output_type": "stream",
     "text": [
      "100%|██████████| 12/12 [00:02<00:00,  4.87it/s]\n"
     ]
    },
    {
     "name": "stdout",
     "output_type": "stream",
     "text": [
      "Data concatenation complete.\n",
      "Data loading over\n",
      "Loading curvefault-b validation data\n"
     ]
    },
    {
     "name": "stderr",
     "output_type": "stream",
     "text": [
      "100%|██████████| 12/12 [00:02<00:00,  4.91it/s]\n"
     ]
    },
    {
     "name": "stdout",
     "output_type": "stream",
     "text": [
      "Data concatenation complete.\n",
      "Data loading over\n",
      "------------ Evaluating curvefault-b ------------\n",
      "Dataset:  style-a\n",
      "Loading style-a validation data\n"
     ]
    },
    {
     "name": "stderr",
     "output_type": "stream",
     "text": [
      "100%|██████████| 14/14 [00:02<00:00,  4.90it/s]\n"
     ]
    },
    {
     "name": "stdout",
     "output_type": "stream",
     "text": [
      "Data concatenation complete.\n",
      "Data loading over\n",
      "Loading style-a validation data\n"
     ]
    },
    {
     "name": "stderr",
     "output_type": "stream",
     "text": [
      "100%|██████████| 14/14 [00:02<00:00,  4.95it/s]\n"
     ]
    },
    {
     "name": "stdout",
     "output_type": "stream",
     "text": [
      "Data concatenation complete.\n",
      "Data loading over\n",
      "------------ Evaluating style-a ------------\n",
      "Dataset:  style-b\n",
      "Loading style-b validation data\n"
     ]
    },
    {
     "name": "stderr",
     "output_type": "stream",
     "text": [
      "100%|██████████| 14/14 [00:02<00:00,  4.74it/s]\n"
     ]
    },
    {
     "name": "stdout",
     "output_type": "stream",
     "text": [
      "Data concatenation complete.\n",
      "Data loading over\n",
      "Loading style-b validation data\n"
     ]
    },
    {
     "name": "stderr",
     "output_type": "stream",
     "text": [
      "100%|██████████| 14/14 [00:02<00:00,  4.78it/s]\n"
     ]
    },
    {
     "name": "stdout",
     "output_type": "stream",
     "text": [
      "Data concatenation complete.\n",
      "Data loading over\n",
      "------------ Evaluating style-b ------------\n",
      "Dataset:  flatvel-a\n",
      "Loading flatvel-a validation data\n"
     ]
    },
    {
     "name": "stderr",
     "output_type": "stream",
     "text": [
      "100%|██████████| 12/12 [00:03<00:00,  3.68it/s]\n"
     ]
    },
    {
     "name": "stdout",
     "output_type": "stream",
     "text": [
      "Data concatenation complete.\n",
      "Data loading over\n",
      "Loading flatvel-a validation data\n"
     ]
    },
    {
     "name": "stderr",
     "output_type": "stream",
     "text": [
      "100%|██████████| 12/12 [00:02<00:00,  4.35it/s]\n"
     ]
    },
    {
     "name": "stdout",
     "output_type": "stream",
     "text": [
      "Data concatenation complete.\n",
      "Data loading over\n",
      "------------ Evaluating flatvel-a ------------\n",
      "Dataset:  flatvel-b\n",
      "Loading flatvel-b validation data\n"
     ]
    },
    {
     "name": "stderr",
     "output_type": "stream",
     "text": [
      "100%|██████████| 12/12 [00:02<00:00,  5.05it/s]\n"
     ]
    },
    {
     "name": "stdout",
     "output_type": "stream",
     "text": [
      "Data concatenation complete.\n",
      "Data loading over\n",
      "Loading flatvel-b validation data\n"
     ]
    },
    {
     "name": "stderr",
     "output_type": "stream",
     "text": [
      "100%|██████████| 12/12 [00:02<00:00,  5.07it/s]\n"
     ]
    },
    {
     "name": "stdout",
     "output_type": "stream",
     "text": [
      "Data concatenation complete.\n",
      "Data loading over\n",
      "------------ Evaluating flatvel-b ------------\n",
      "Dataset:  curvevel-a\n",
      "Loading curvevel-a validation data\n"
     ]
    },
    {
     "name": "stderr",
     "output_type": "stream",
     "text": [
      "100%|██████████| 12/12 [00:02<00:00,  4.80it/s]\n"
     ]
    },
    {
     "name": "stdout",
     "output_type": "stream",
     "text": [
      "Data concatenation complete.\n",
      "Data loading over\n",
      "Loading curvevel-a validation data\n"
     ]
    },
    {
     "name": "stderr",
     "output_type": "stream",
     "text": [
      "100%|██████████| 12/12 [00:02<00:00,  4.84it/s]\n"
     ]
    },
    {
     "name": "stdout",
     "output_type": "stream",
     "text": [
      "Data concatenation complete.\n",
      "Data loading over\n",
      "------------ Evaluating curvevel-a ------------\n",
      "Dataset:  curvevel-b\n",
      "Loading curvevel-b validation data\n"
     ]
    },
    {
     "name": "stderr",
     "output_type": "stream",
     "text": [
      "100%|██████████| 12/12 [00:02<00:00,  4.86it/s]\n"
     ]
    },
    {
     "name": "stdout",
     "output_type": "stream",
     "text": [
      "Data concatenation complete.\n",
      "Data loading over\n",
      "Loading curvevel-b validation data\n"
     ]
    },
    {
     "name": "stderr",
     "output_type": "stream",
     "text": [
      "100%|██████████| 12/12 [00:02<00:00,  4.81it/s]\n"
     ]
    },
    {
     "name": "stdout",
     "output_type": "stream",
     "text": [
      "Data concatenation complete.\n",
      "Data loading over\n",
      "------------ Evaluating curvevel-b ------------\n",
      "Dataset:  flatfault-a\n",
      "Loading flatfault-a validation data\n"
     ]
    },
    {
     "name": "stderr",
     "output_type": "stream",
     "text": [
      "100%|██████████| 12/12 [00:02<00:00,  4.76it/s]\n"
     ]
    },
    {
     "name": "stdout",
     "output_type": "stream",
     "text": [
      "Data concatenation complete.\n",
      "Data loading over\n",
      "Loading flatfault-a validation data\n"
     ]
    },
    {
     "name": "stderr",
     "output_type": "stream",
     "text": [
      "100%|██████████| 12/12 [00:02<00:00,  4.77it/s]\n"
     ]
    },
    {
     "name": "stdout",
     "output_type": "stream",
     "text": [
      "Data concatenation complete.\n",
      "Data loading over\n",
      "------------ Evaluating flatfault-a ------------\n",
      "Dataset:  flatfault-b\n",
      "Loading flatfault-b validation data\n"
     ]
    },
    {
     "name": "stderr",
     "output_type": "stream",
     "text": [
      "100%|██████████| 12/12 [00:02<00:00,  4.15it/s]\n"
     ]
    },
    {
     "name": "stdout",
     "output_type": "stream",
     "text": [
      "Data concatenation complete.\n",
      "Data loading over\n",
      "Loading flatfault-b validation data\n"
     ]
    },
    {
     "name": "stderr",
     "output_type": "stream",
     "text": [
      "100%|██████████| 12/12 [00:02<00:00,  4.18it/s]\n"
     ]
    },
    {
     "name": "stdout",
     "output_type": "stream",
     "text": [
      "Data concatenation complete.\n",
      "Data loading over\n",
      "------------ Evaluating flatfault-b ------------\n",
      "Dataset:  curvefault-a\n",
      "Loading curvefault-a validation data\n"
     ]
    },
    {
     "name": "stderr",
     "output_type": "stream",
     "text": [
      "100%|██████████| 12/12 [00:02<00:00,  4.86it/s]\n"
     ]
    },
    {
     "name": "stdout",
     "output_type": "stream",
     "text": [
      "Data concatenation complete.\n",
      "Data loading over\n",
      "Loading curvefault-a validation data\n"
     ]
    },
    {
     "name": "stderr",
     "output_type": "stream",
     "text": [
      "100%|██████████| 12/12 [00:02<00:00,  4.84it/s]\n"
     ]
    },
    {
     "name": "stdout",
     "output_type": "stream",
     "text": [
      "Data concatenation complete.\n",
      "Data loading over\n",
      "------------ Evaluating curvefault-a ------------\n",
      "Dataset:  curvefault-b\n",
      "Loading curvefault-b validation data\n"
     ]
    },
    {
     "name": "stderr",
     "output_type": "stream",
     "text": [
      "100%|██████████| 12/12 [00:02<00:00,  4.90it/s]\n"
     ]
    },
    {
     "name": "stdout",
     "output_type": "stream",
     "text": [
      "Data concatenation complete.\n",
      "Data loading over\n",
      "Loading curvefault-b validation data\n"
     ]
    },
    {
     "name": "stderr",
     "output_type": "stream",
     "text": [
      "100%|██████████| 12/12 [00:02<00:00,  4.94it/s]\n"
     ]
    },
    {
     "name": "stdout",
     "output_type": "stream",
     "text": [
      "Data concatenation complete.\n",
      "Data loading over\n",
      "------------ Evaluating curvefault-b ------------\n",
      "Dataset:  style-a\n",
      "Loading style-a validation data\n"
     ]
    },
    {
     "name": "stderr",
     "output_type": "stream",
     "text": [
      "100%|██████████| 14/14 [00:03<00:00,  4.65it/s]\n"
     ]
    },
    {
     "name": "stdout",
     "output_type": "stream",
     "text": [
      "Data concatenation complete.\n",
      "Data loading over\n",
      "Loading style-a validation data\n"
     ]
    },
    {
     "name": "stderr",
     "output_type": "stream",
     "text": [
      "100%|██████████| 14/14 [00:02<00:00,  4.77it/s]\n"
     ]
    },
    {
     "name": "stdout",
     "output_type": "stream",
     "text": [
      "Data concatenation complete.\n",
      "Data loading over\n",
      "------------ Evaluating style-a ------------\n",
      "Dataset:  style-b\n",
      "Loading style-b validation data\n"
     ]
    },
    {
     "name": "stderr",
     "output_type": "stream",
     "text": [
      "100%|██████████| 14/14 [00:02<00:00,  4.92it/s]\n"
     ]
    },
    {
     "name": "stdout",
     "output_type": "stream",
     "text": [
      "Data concatenation complete.\n",
      "Data loading over\n",
      "Loading style-b validation data\n"
     ]
    },
    {
     "name": "stderr",
     "output_type": "stream",
     "text": [
      "100%|██████████| 14/14 [00:02<00:00,  4.94it/s]\n"
     ]
    },
    {
     "name": "stdout",
     "output_type": "stream",
     "text": [
      "Data concatenation complete.\n",
      "Data loading over\n",
      "------------ Evaluating style-b ------------\n"
     ]
    }
   ],
   "source": [
    "eval_matrix = generate_eval_matrix(model_names, model_paths, datasets)"
   ]
  },
  {
   "cell_type": "code",
   "execution_count": 9,
   "id": "4c7265fa",
   "metadata": {},
   "outputs": [],
   "source": [
    "write_metrics(eval_matrix, f'eval_metric{model_save_name}.xlsx')"
   ]
  },
  {
   "cell_type": "code",
   "execution_count": null,
   "id": "5b92acb3",
   "metadata": {},
   "outputs": [],
   "source": []
  },
  {
   "cell_type": "code",
   "execution_count": null,
   "id": "98a6d471",
   "metadata": {},
   "outputs": [],
   "source": []
  },
  {
   "cell_type": "code",
   "execution_count": null,
   "id": "81014aa6",
   "metadata": {},
   "outputs": [],
   "source": []
  },
  {
   "cell_type": "code",
   "execution_count": null,
   "id": "f030cf2f",
   "metadata": {},
   "outputs": [],
   "source": []
  },
  {
   "cell_type": "code",
   "execution_count": null,
   "id": "53121352",
   "metadata": {},
   "outputs": [],
   "source": []
  }
 ],
 "metadata": {
  "kernelspec": {
   "display_name": "openfwi_env",
   "language": "python",
   "name": "openfwi_env"
  },
  "language_info": {
   "codemirror_mode": {
    "name": "ipython",
    "version": 3
   },
   "file_extension": ".py",
   "mimetype": "text/x-python",
   "name": "python",
   "nbconvert_exporter": "python",
   "pygments_lexer": "ipython3",
   "version": "3.9.17"
  }
 },
 "nbformat": 4,
 "nbformat_minor": 5
}
